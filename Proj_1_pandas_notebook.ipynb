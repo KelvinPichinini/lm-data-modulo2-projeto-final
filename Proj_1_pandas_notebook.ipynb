{
 "cells": [
  {
   "cell_type": "markdown",
   "id": "8030d55b",
   "metadata": {
    "id": "8030d55b"
   },
   "source": [
    "# Projeto Técnicas de programação I\n",
    "\n",
    "## Análise exploratória de dados/Pandas\n",
    "\n",
    "Nomes: Christyan Costa De Oliveira, Kelvin Pichinini, Luis Ernesto Beingolea Delgado\n",
    "\n",
    "Turma: 970 LM Tech Data Talents\n"
   ]
  },
  {
   "cell_type": "markdown",
   "id": "9d476103",
   "metadata": {
    "id": "9d476103"
   },
   "source": [
    "Nesse projeto trabalharemos com dados fictícios de investidores.\n",
    "\n",
    "São 3 arquivos que devem ser carregados para responder as perguntas abaixo.\n",
    "\n",
    "Para a entrega, coloque o notebook respondido no seu github (um por grupo)!"
   ]
  },
  {
   "cell_type": "markdown",
   "id": "ff348160",
   "metadata": {
    "id": "ff348160"
   },
   "source": [
    "Informações\n",
    "\n",
    "Cadastro:\n",
    "- **id** : Identificação do investidor\n",
    "- **Nome** : Nome completo do investidor \n",
    "- **Sexo** : Feminino ou masculino\n",
    "- **Nasc** : Data de nascimento\n",
    "- **Idade** : Idade do investidor \n",
    "- **Email** : E-mail do investidor\n",
    "- **Lat_long** : Dados geográficos do investidor\n",
    "- **Job** : Profisão do investidor ou do seu responsável (em inglês)\n",
    "- **Estado** : Estado onde o investidor reside\n",
    "\n",
    "Investimento:\n",
    "- **id** : Identificação do investidor\n",
    "- **Salario** : Renda do investidor ou seu responsável\n",
    "- **Perfil** : Perfil de investimento\n",
    "- **Ativo01, Ativo02, Ativo03, Ativo04, Ativo05, Ativo06, Ativo07** : O quanto de dinheiro o investidor colocou em cada ativo\n",
    "- **Nota1, Nota2** : O quanto o investidor está satisfeito com nossa empresa (2 avaliações)\n",
    "\n",
    "Lembrando que esses dados são irreais e fictícios\n"
   ]
  },
  {
   "cell_type": "markdown",
   "id": "2c93ad4b",
   "metadata": {
    "id": "2c93ad4b"
   },
   "source": [
    "Arquivo cadastro.csv\n",
    "\n",
    "\n",
    "Arquivo investimento.csv (dividido em 2 partes)"
   ]
  },
  {
   "cell_type": "markdown",
   "id": "ebdf2a14",
   "metadata": {
    "id": "ebdf2a14"
   },
   "source": [
    "### Critérios de avaliação\n",
    "\n",
    "Os seguintes itens serão avaliados:\n",
    "\n",
    "1. Reprodutibilidade do código: seu código será executado e precisa gerar os mesmos resultados apresentados por você;\n",
    "\n",
    "2. Clareza: seu código precisa ser claro e deve existir uma linha de raciocínio direta. Comente o código em pontos que julgar necessário para o entendimento total;\n",
    "\n",
    "3. Explicação de todos os processos feitos e decisões tomadas\n",
    "\n",
    "## Informações Gerais sobre o Projeto\n",
    "\n",
    "- O projeto poderá ser desenvolvido __individualmente__ ou em __grupos com até 4 pessoas__, caos façam em grupos enviar a relação de alunos do grupo para o professor;\n",
    "\n",
    "\n",
    "- Data de Entrega: 14/04/2023;\n",
    "\n",
    "- Entrega: Através do _Class_\n",
    "\n",
    "\n",
    "\n"
   ]
  },
  {
   "cell_type": "markdown",
   "id": "4ceb5d96",
   "metadata": {
    "id": "4ceb5d96"
   },
   "source": [
    "## 1 - Carregar os arquivos e cadastro, investimento1 e investimento2 e mostrar a quantidade de linhas de cada um, além das informações desses dataframes"
   ]
  },
  {
   "cell_type": "code",
   "execution_count": 1,
   "id": "61c059ab",
   "metadata": {
    "ExecuteTime": {
     "end_time": "2021-08-16T13:30:14.809532Z",
     "start_time": "2021-08-16T13:30:14.801117Z"
    },
    "colab": {
     "base_uri": "https://localhost:8080/"
    },
    "id": "61c059ab",
    "outputId": "3f5a9cef-e424-4598-e943-f8093c10266d"
   },
   "outputs": [],
   "source": [
    "import pandas as pd\n",
    "\n",
    "dfcadastro = pd.read_csv(\"cadastro.csv\", sep=\",\")\n",
    "dfinvest1 = pd.read_csv(\"investimento_parte1.csv\", sep=\",\")\n",
    "dfinvest2 = pd.read_csv(\"investimento_parte2.csv\", sep=\",\")"
   ]
  },
  {
   "cell_type": "markdown",
   "id": "5bddb7f2",
   "metadata": {},
   "source": [
    "#### Arquivo Cadastro.csv"
   ]
  },
  {
   "cell_type": "code",
   "execution_count": 5,
   "id": "ef8a3115",
   "metadata": {},
   "outputs": [
    {
     "name": "stdout",
     "output_type": "stream",
     "text": [
      "Cadastro: 38754 linhas; 9 colunas\n",
      "\n",
      "<class 'pandas.core.frame.DataFrame'>\n",
      "RangeIndex: 38754 entries, 0 to 38753\n",
      "Data columns (total 9 columns):\n",
      " #   Column    Non-Null Count  Dtype \n",
      "---  ------    --------------  ----- \n",
      " 0   id        38754 non-null  object\n",
      " 1   Nome      38754 non-null  object\n",
      " 2   Sexo      38754 non-null  object\n",
      " 3   Nasc      38754 non-null  object\n",
      " 4   Idade     38754 non-null  int64 \n",
      " 5   Email     38754 non-null  object\n",
      " 6   Lat_long  38754 non-null  object\n",
      " 7   Job       38754 non-null  object\n",
      " 8   Estado    38754 non-null  object\n",
      "dtypes: int64(1), object(8)\n",
      "memory usage: 2.7+ MB\n"
     ]
    },
    {
     "data": {
      "text/plain": [
       "None"
      ]
     },
     "metadata": {},
     "output_type": "display_data"
    }
   ],
   "source": [
    "print(\"Cadastro:\",dfcadastro.shape[0], \"linhas;\", dfcadastro.shape[1], \"colunas\\n\")\n",
    "display(dfcadastro.info())"
   ]
  },
  {
   "cell_type": "markdown",
   "id": "f9df5867",
   "metadata": {},
   "source": [
    "#### Arquivo Investimento_parte1.csv"
   ]
  },
  {
   "cell_type": "code",
   "execution_count": 6,
   "id": "cd421b92",
   "metadata": {},
   "outputs": [
    {
     "name": "stdout",
     "output_type": "stream",
     "text": [
      "investimento_parte1: 20000 linhas; 12 colunas\n",
      "\n",
      "<class 'pandas.core.frame.DataFrame'>\n",
      "RangeIndex: 20000 entries, 0 to 19999\n",
      "Data columns (total 12 columns):\n",
      " #   Column   Non-Null Count  Dtype  \n",
      "---  ------   --------------  -----  \n",
      " 0   id       20000 non-null  object \n",
      " 1   Salario  20000 non-null  object \n",
      " 2   Perfil   20000 non-null  object \n",
      " 3   Ativo01  15012 non-null  float64\n",
      " 4   Ativo02  16857 non-null  float64\n",
      " 5   Ativo03  16760 non-null  float64\n",
      " 6   Ativo04  13799 non-null  float64\n",
      " 7   Ativo05  16829 non-null  float64\n",
      " 8   Ativo06  9895 non-null   float64\n",
      " 9   Ativo07  20000 non-null  float64\n",
      " 10  Nota1    18469 non-null  float64\n",
      " 11  Nota2    18954 non-null  float64\n",
      "dtypes: float64(9), object(3)\n",
      "memory usage: 1.8+ MB\n"
     ]
    },
    {
     "data": {
      "text/plain": [
       "None"
      ]
     },
     "metadata": {},
     "output_type": "display_data"
    }
   ],
   "source": [
    "print(\"investimento_parte1:\",dfinvest1.shape[0], \"linhas;\", dfinvest1.shape[1], \"colunas\\n\")\n",
    "display(dfinvest1.info())"
   ]
  },
  {
   "cell_type": "markdown",
   "id": "a95864f4",
   "metadata": {},
   "source": [
    "#### Arquivo Investimento_parte2.csv"
   ]
  },
  {
   "cell_type": "code",
   "execution_count": 7,
   "id": "11185d77",
   "metadata": {},
   "outputs": [
    {
     "name": "stdout",
     "output_type": "stream",
     "text": [
      "investimento_parte1 24052 linhas; 12 colunas\n",
      "\n",
      "<class 'pandas.core.frame.DataFrame'>\n",
      "RangeIndex: 24052 entries, 0 to 24051\n",
      "Data columns (total 12 columns):\n",
      " #   Column   Non-Null Count  Dtype  \n",
      "---  ------   --------------  -----  \n",
      " 0   id       24052 non-null  object \n",
      " 1   Salario  24052 non-null  object \n",
      " 2   Perfil   24052 non-null  object \n",
      " 3   Ativo01  17994 non-null  float64\n",
      " 4   Ativo02  20245 non-null  float64\n",
      " 5   Ativo03  20249 non-null  float64\n",
      " 6   Ativo04  16685 non-null  float64\n",
      " 7   Ativo05  20211 non-null  float64\n",
      " 8   Ativo06  11932 non-null  float64\n",
      " 9   Ativo07  24052 non-null  float64\n",
      " 10  Nota1    22172 non-null  float64\n",
      " 11  Nota2    22810 non-null  float64\n",
      "dtypes: float64(9), object(3)\n",
      "memory usage: 2.2+ MB\n"
     ]
    },
    {
     "data": {
      "text/plain": [
       "None"
      ]
     },
     "metadata": {},
     "output_type": "display_data"
    }
   ],
   "source": [
    "print(\"investimento_parte1\",dfinvest2.shape[0], \"linhas;\", dfinvest2.shape[1], \"colunas\\n\")\n",
    "display(dfinvest2.info())"
   ]
  },
  {
   "cell_type": "markdown",
   "id": "de88ae37",
   "metadata": {
    "id": "de88ae37"
   },
   "source": [
    "## 2 - Juntar os dataframes de investimento1 e investimento2 em um só e ver a quantidade de linhas"
   ]
  },
  {
   "cell_type": "code",
   "execution_count": 8,
   "id": "e2c363da",
   "metadata": {
    "colab": {
     "base_uri": "https://localhost:8080/"
    },
    "id": "e2c363da",
    "outputId": "5af940c9-d3d8-4ee0-977b-0a0f6fa33040"
   },
   "outputs": [
    {
     "name": "stdout",
     "output_type": "stream",
     "text": [
      "44052 linhas\n"
     ]
    }
   ],
   "source": [
    "dfinvest = pd.concat([dfinvest1, dfinvest2])\n",
    "total_linhas = dfinvest.shape[0]\n",
    "print(total_linhas,\"linhas\")\n"
   ]
  },
  {
   "cell_type": "markdown",
   "id": "9a49fb0d",
   "metadata": {
    "id": "9a49fb0d"
   },
   "source": [
    "## 3 - Crie um novo dataframe eliminando as linhas duplicadas"
   ]
  },
  {
   "cell_type": "code",
   "execution_count": 9,
   "id": "9d26e5d9",
   "metadata": {
    "colab": {
     "base_uri": "https://localhost:8080/"
    },
    "id": "9d26e5d9",
    "outputId": "0d39bfa7-1bbd-466c-dd1c-051cdf526d1f"
   },
   "outputs": [
    {
     "name": "stdout",
     "output_type": "stream",
     "text": [
      "Foram removidas 5298 entradas duplicadas\n",
      "Restando 38754 linhas na base de dados\n"
     ]
    }
   ],
   "source": [
    "dflimpo = dfinvest.drop_duplicates()\n",
    "total_sem_duplicadas = dflimpo.shape[0]\n",
    "print(f'Foram removidas {total_linhas - total_sem_duplicadas} entradas duplicadas')\n",
    "print('Restando',total_sem_duplicadas,\"linhas na base de dados\")"
   ]
  },
  {
   "cell_type": "markdown",
   "id": "d5c4abc4",
   "metadata": {
    "id": "d5c4abc4"
   },
   "source": [
    "## 4 - Junte o dataframe de investimento com o de cadastro\n",
    "Dica: use a chave id"
   ]
  },
  {
   "cell_type": "code",
   "execution_count": 10,
   "id": "f21d58b4",
   "metadata": {
    "colab": {
     "base_uri": "https://localhost:8080/",
     "height": 974
    },
    "id": "f21d58b4",
    "outputId": "bdcfbfd0-dc68-46d5-9f20-7bd06920bea1"
   },
   "outputs": [
    {
     "name": "stdout",
     "output_type": "stream",
     "text": [
      "(38754, 20)\n"
     ]
    },
    {
     "data": {
      "text/html": [
       "<div>\n",
       "<style scoped>\n",
       "    .dataframe tbody tr th:only-of-type {\n",
       "        vertical-align: middle;\n",
       "    }\n",
       "\n",
       "    .dataframe tbody tr th {\n",
       "        vertical-align: top;\n",
       "    }\n",
       "\n",
       "    .dataframe thead th {\n",
       "        text-align: right;\n",
       "    }\n",
       "</style>\n",
       "<table border=\"1\" class=\"dataframe\">\n",
       "  <thead>\n",
       "    <tr style=\"text-align: right;\">\n",
       "      <th></th>\n",
       "      <th>id</th>\n",
       "      <th>Nome</th>\n",
       "      <th>Sexo</th>\n",
       "      <th>Nasc</th>\n",
       "      <th>Idade</th>\n",
       "      <th>Email</th>\n",
       "      <th>Lat_long</th>\n",
       "      <th>Job</th>\n",
       "      <th>Estado</th>\n",
       "      <th>Salario</th>\n",
       "      <th>Perfil</th>\n",
       "      <th>Ativo01</th>\n",
       "      <th>Ativo02</th>\n",
       "      <th>Ativo03</th>\n",
       "      <th>Ativo04</th>\n",
       "      <th>Ativo05</th>\n",
       "      <th>Ativo06</th>\n",
       "      <th>Ativo07</th>\n",
       "      <th>Nota1</th>\n",
       "      <th>Nota2</th>\n",
       "    </tr>\n",
       "  </thead>\n",
       "  <tbody>\n",
       "    <tr>\n",
       "      <th>0</th>\n",
       "      <td>id0000001</td>\n",
       "      <td>Eunice Hellen do Vale</td>\n",
       "      <td>Fem</td>\n",
       "      <td>1970-11-12</td>\n",
       "      <td>51</td>\n",
       "      <td>djones@yahoo.com</td>\n",
       "      <td>(Decimal('24.7024355'), Decimal('-28.038258'))</td>\n",
       "      <td>Technical author</td>\n",
       "      <td>TO</td>\n",
       "      <td>$63.67</td>\n",
       "      <td>Moderado</td>\n",
       "      <td>1174.27</td>\n",
       "      <td>4980.98</td>\n",
       "      <td>2638.24</td>\n",
       "      <td>NaN</td>\n",
       "      <td>4480.91</td>\n",
       "      <td>2329.72</td>\n",
       "      <td>480.72</td>\n",
       "      <td>79.600372</td>\n",
       "      <td>9.802620</td>\n",
       "    </tr>\n",
       "    <tr>\n",
       "      <th>1</th>\n",
       "      <td>id0000002</td>\n",
       "      <td>Sebastião Castelo Branco Júnior</td>\n",
       "      <td>Masc</td>\n",
       "      <td>2019-12-10</td>\n",
       "      <td>2</td>\n",
       "      <td>barnesandrea@yahoo.com</td>\n",
       "      <td>(Decimal('21.8589875'), Decimal('122.830566'))</td>\n",
       "      <td>Biochemist, clinical</td>\n",
       "      <td>DF</td>\n",
       "      <td>$21.96</td>\n",
       "      <td>Moderado</td>\n",
       "      <td>842.12</td>\n",
       "      <td>5646.09</td>\n",
       "      <td>3336.07</td>\n",
       "      <td>NaN</td>\n",
       "      <td>5624.22</td>\n",
       "      <td>2669.98</td>\n",
       "      <td>504.17</td>\n",
       "      <td>44.406893</td>\n",
       "      <td>90.512871</td>\n",
       "    </tr>\n",
       "  </tbody>\n",
       "</table>\n",
       "</div>"
      ],
      "text/plain": [
       "          id                             Nome  Sexo        Nasc  Idade  \\\n",
       "0  id0000001            Eunice Hellen do Vale   Fem  1970-11-12     51   \n",
       "1  id0000002  Sebastião Castelo Branco Júnior  Masc  2019-12-10      2   \n",
       "\n",
       "                    Email                                        Lat_long  \\\n",
       "0        djones@yahoo.com  (Decimal('24.7024355'), Decimal('-28.038258'))   \n",
       "1  barnesandrea@yahoo.com  (Decimal('21.8589875'), Decimal('122.830566'))   \n",
       "\n",
       "                    Job Estado Salario    Perfil  Ativo01  Ativo02  Ativo03  \\\n",
       "0      Technical author     TO  $63.67  Moderado  1174.27  4980.98  2638.24   \n",
       "1  Biochemist, clinical     DF  $21.96  Moderado   842.12  5646.09  3336.07   \n",
       "\n",
       "   Ativo04  Ativo05  Ativo06  Ativo07      Nota1      Nota2  \n",
       "0      NaN  4480.91  2329.72   480.72  79.600372   9.802620  \n",
       "1      NaN  5624.22  2669.98   504.17  44.406893  90.512871  "
      ]
     },
     "metadata": {},
     "output_type": "display_data"
    }
   ],
   "source": [
    "# Inner Join\n",
    "dfunidos=pd.merge(left = dfcadastro, right = dflimpo, how = 'inner', on = 'id')\n",
    "print(dfunidos.shape)\n",
    "display(dfunidos.head(2))"
   ]
  },
  {
   "cell_type": "markdown",
   "id": "0ce78c5c",
   "metadata": {
    "ExecuteTime": {
     "end_time": "2021-08-16T13:13:10.973171Z",
     "start_time": "2021-08-16T13:13:10.961165Z"
    },
    "id": "0ce78c5c"
   },
   "source": [
    "## 5 - Ordene o dataframe pelo id, de forma crescente e redefina o índice"
   ]
  },
  {
   "cell_type": "code",
   "execution_count": 11,
   "id": "4d97062c",
   "metadata": {
    "colab": {
     "base_uri": "https://localhost:8080/",
     "height": 957
    },
    "id": "4d97062c",
    "outputId": "58a30dee-91f5-4caf-8cd4-b9c7dbd931cd"
   },
   "outputs": [],
   "source": [
    "dfunidos.sort_values('id',inplace = True)\n",
    "dfunidos.set_index('id', inplace=True)"
   ]
  },
  {
   "cell_type": "markdown",
   "id": "82acd3df",
   "metadata": {},
   "source": [
    "## 6 - Faça uma análise dos dados faltantes e trate-os\n",
    "\n",
    "Mostre todas as colunas com dados faltantes, sua quantidade/porcentagem e como tratar (preencher) cada uma delas explicando sua estratégia."
   ]
  },
  {
   "cell_type": "markdown",
   "id": "78da2ba9",
   "metadata": {},
   "source": [
    "#### Verificando valores ausentes"
   ]
  },
  {
   "cell_type": "code",
   "execution_count": null,
   "id": "2e66f1d6",
   "metadata": {},
   "outputs": [
    {
     "data": {
      "text/html": [
       "<div>\n",
       "<style scoped>\n",
       "    .dataframe tbody tr th:only-of-type {\n",
       "        vertical-align: middle;\n",
       "    }\n",
       "\n",
       "    .dataframe tbody tr th {\n",
       "        vertical-align: top;\n",
       "    }\n",
       "\n",
       "    .dataframe thead th {\n",
       "        text-align: right;\n",
       "    }\n",
       "</style>\n",
       "<table border=\"1\" class=\"dataframe\">\n",
       "  <thead>\n",
       "    <tr style=\"text-align: right;\">\n",
       "      <th></th>\n",
       "      <th>Total faltante</th>\n",
       "      <th>Porcentagem faltante</th>\n",
       "    </tr>\n",
       "  </thead>\n",
       "  <tbody>\n",
       "    <tr>\n",
       "      <th>Nome</th>\n",
       "      <td>0</td>\n",
       "      <td>0.00%</td>\n",
       "    </tr>\n",
       "    <tr>\n",
       "      <th>Sexo</th>\n",
       "      <td>0</td>\n",
       "      <td>0.00%</td>\n",
       "    </tr>\n",
       "    <tr>\n",
       "      <th>Nasc</th>\n",
       "      <td>0</td>\n",
       "      <td>0.00%</td>\n",
       "    </tr>\n",
       "    <tr>\n",
       "      <th>Idade</th>\n",
       "      <td>0</td>\n",
       "      <td>0.00%</td>\n",
       "    </tr>\n",
       "    <tr>\n",
       "      <th>Email</th>\n",
       "      <td>0</td>\n",
       "      <td>0.00%</td>\n",
       "    </tr>\n",
       "    <tr>\n",
       "      <th>Lat_long</th>\n",
       "      <td>0</td>\n",
       "      <td>0.00%</td>\n",
       "    </tr>\n",
       "    <tr>\n",
       "      <th>Job</th>\n",
       "      <td>0</td>\n",
       "      <td>0.00%</td>\n",
       "    </tr>\n",
       "    <tr>\n",
       "      <th>Estado</th>\n",
       "      <td>0</td>\n",
       "      <td>0.00%</td>\n",
       "    </tr>\n",
       "    <tr>\n",
       "      <th>Salario</th>\n",
       "      <td>0</td>\n",
       "      <td>0.00%</td>\n",
       "    </tr>\n",
       "    <tr>\n",
       "      <th>Perfil</th>\n",
       "      <td>0</td>\n",
       "      <td>0.00%</td>\n",
       "    </tr>\n",
       "    <tr>\n",
       "      <th>Ativo01</th>\n",
       "      <td>9724</td>\n",
       "      <td>25.09%</td>\n",
       "    </tr>\n",
       "    <tr>\n",
       "      <th>Ativo02</th>\n",
       "      <td>6100</td>\n",
       "      <td>15.74%</td>\n",
       "    </tr>\n",
       "    <tr>\n",
       "      <th>Ativo03</th>\n",
       "      <td>6169</td>\n",
       "      <td>15.92%</td>\n",
       "    </tr>\n",
       "    <tr>\n",
       "      <th>Ativo04</th>\n",
       "      <td>11887</td>\n",
       "      <td>30.67%</td>\n",
       "    </tr>\n",
       "    <tr>\n",
       "      <th>Ativo05</th>\n",
       "      <td>6191</td>\n",
       "      <td>15.98%</td>\n",
       "    </tr>\n",
       "    <tr>\n",
       "      <th>Ativo06</th>\n",
       "      <td>19514</td>\n",
       "      <td>50.35%</td>\n",
       "    </tr>\n",
       "    <tr>\n",
       "      <th>Ativo07</th>\n",
       "      <td>0</td>\n",
       "      <td>0.00%</td>\n",
       "    </tr>\n",
       "    <tr>\n",
       "      <th>Nota1</th>\n",
       "      <td>3000</td>\n",
       "      <td>7.74%</td>\n",
       "    </tr>\n",
       "    <tr>\n",
       "      <th>Nota2</th>\n",
       "      <td>2000</td>\n",
       "      <td>5.16%</td>\n",
       "    </tr>\n",
       "  </tbody>\n",
       "</table>\n",
       "</div>"
      ],
      "text/plain": [
       "          Total faltante Porcentagem faltante\n",
       "Nome                   0                0.00%\n",
       "Sexo                   0                0.00%\n",
       "Nasc                   0                0.00%\n",
       "Idade                  0                0.00%\n",
       "Email                  0                0.00%\n",
       "Lat_long               0                0.00%\n",
       "Job                    0                0.00%\n",
       "Estado                 0                0.00%\n",
       "Salario                0                0.00%\n",
       "Perfil                 0                0.00%\n",
       "Ativo01             9724               25.09%\n",
       "Ativo02             6100               15.74%\n",
       "Ativo03             6169               15.92%\n",
       "Ativo04            11887               30.67%\n",
       "Ativo05             6191               15.98%\n",
       "Ativo06            19514               50.35%\n",
       "Ativo07                0                0.00%\n",
       "Nota1               3000                7.74%\n",
       "Nota2               2000                5.16%"
      ]
     },
     "metadata": {},
     "output_type": "display_data"
    }
   ],
   "source": [
    "data = { \n",
    "    'Total faltante':dfunidos.isnull().sum(),\n",
    "    # Cada valor ausente dá origem a um True no campo correspondente. \n",
    "    # Como True corresponde ao número 1, usamos o método .sum() para obter a quantidade de dados ausentes em cada coluna.\n",
    "    \n",
    "    # Calculando a porcentagem de dados faltantes em cada coluna\n",
    "    'Porcentagem faltante':dfunidos.isnull().mean().round(4).mul(100).apply(lambda numero: f'{numero:.2f}%')   \n",
    "}\n",
    "\n",
    "newdf = pd.DataFrame(data)\n",
    "display(newdf)"
   ]
  },
  {
   "cell_type": "markdown",
   "id": "addf1cdc",
   "metadata": {},
   "source": [
    "A partir da tabela acima, é possível verificar que apenas alguns ativos e notas de NPS (Net Promoter Score) possuem valores ausentes. Portanto, estes casos serão  devidamente separados, analisados e tratados de forma específica.\n",
    "\n",
    "### Tratamento de valores ausentes nas colunas de ATIVOS\n",
    "\n",
    "Foram levantadas duas hipóteses sobre as causas pelas quais estes valores estariam ausentes:\n",
    "\n",
    "- Hipótese 1 **(H1)**: Os valores nulos representam, na verdade, a ausência de valores investidos em um determinado ativo, e, portanto, equivalem ao valor de 0 unidades monetárias.\n",
    "\n",
    "- Hipótese 2 **(H2)**: Falha no processo de preenchimento, armazenamento ou coleta de dados. Neste caso, os campos ausentes podem assumir qualquer valor e seria recomendável uma investigação mais profunda (juntamente com outros setores do negócio) acerca das possíveis causas destas ausências. Por outro lado, caso a distribuição de dados possa ser estimada com razoável confiabilidade (por meio dos dados conhecidos e das circunstâncias específicas do problema em questão), podemos usar um modelo probabilístico baseado na distribuição estimada para inferir os valores dos dados ausentes."
   ]
  },
  {
   "cell_type": "markdown",
   "id": "b8822858",
   "metadata": {},
   "source": [
    "A fim de verificar a possibilidade de **H1** ser verdadeira, vamos contar a quantidade de registros com valor igual a '0' em algum dos ativos."
   ]
  },
  {
   "cell_type": "code",
   "execution_count": null,
   "id": "2dab0513",
   "metadata": {},
   "outputs": [
    {
     "name": "stdout",
     "output_type": "stream",
     "text": [
      "Número de registros com o valor = 0 em pelo menos 1 dos ativos:  0\n"
     ]
    }
   ],
   "source": [
    "filtro_ativo_igual_zero = (\n",
    "(dfunidos['Ativo01'] == 0) |\n",
    "(dfunidos['Ativo02'] == 0) |\n",
    "(dfunidos['Ativo03'] == 0) |\n",
    "(dfunidos['Ativo04'] == 0) |\n",
    "(dfunidos['Ativo05'] == 0) |\n",
    "(dfunidos['Ativo06'] == 0) |\n",
    "(dfunidos['Ativo07'] == 0)\n",
    ")\n",
    "\n",
    "print('Número de registros com o valor = 0 em pelo menos 1 dos ativos: ',dfunidos[filtro_ativo_igual_zero].shape[0])"
   ]
  },
  {
   "cell_type": "markdown",
   "id": "9fea0500",
   "metadata": {},
   "source": [
    "A partir da análise feita acima, é possível concluir que nenhuma das colunas de ativos (ativo01-ativo07) possui registros com valor igual a '0'. Este é um forte indicativo que, de fato, os campos nulos representam a ausência de investimento no ativo. Portanto, a partir daqui, substituiremos estes valores pelo número '0'. \n",
    "\n",
    "\n",
    "**Observação:** Vale ressaltar que esta não é a única abordagem correta. Embora tenhamos escolhido esta perspectiva pelo motivo citado acima, outros tratamentos podem ser considerados, dependendo das circuntâncias específicas do problema em questão. Como no caso presente não temos informações para inferir a validade de H2 (ou qualquer outra hipótese), prosseguiremos assumindo a validade de H1.    "
   ]
  },
  {
   "cell_type": "markdown",
   "id": "0e10efdd",
   "metadata": {},
   "source": [
    "#### Preenchendo os campos nulos de ativos com o valor '0'"
   ]
  },
  {
   "cell_type": "code",
   "execution_count": null,
   "id": "11087833",
   "metadata": {},
   "outputs": [
    {
     "data": {
      "text/html": [
       "<div>\n",
       "<style scoped>\n",
       "    .dataframe tbody tr th:only-of-type {\n",
       "        vertical-align: middle;\n",
       "    }\n",
       "\n",
       "    .dataframe tbody tr th {\n",
       "        vertical-align: top;\n",
       "    }\n",
       "\n",
       "    .dataframe thead th {\n",
       "        text-align: right;\n",
       "    }\n",
       "</style>\n",
       "<table border=\"1\" class=\"dataframe\">\n",
       "  <thead>\n",
       "    <tr style=\"text-align: right;\">\n",
       "      <th></th>\n",
       "      <th>Ativo01</th>\n",
       "      <th>Ativo02</th>\n",
       "      <th>Ativo03</th>\n",
       "      <th>Ativo04</th>\n",
       "      <th>Ativo05</th>\n",
       "      <th>Ativo06</th>\n",
       "      <th>Ativo07</th>\n",
       "    </tr>\n",
       "    <tr>\n",
       "      <th>id</th>\n",
       "      <th></th>\n",
       "      <th></th>\n",
       "      <th></th>\n",
       "      <th></th>\n",
       "      <th></th>\n",
       "      <th></th>\n",
       "      <th></th>\n",
       "    </tr>\n",
       "  </thead>\n",
       "  <tbody>\n",
       "    <tr>\n",
       "      <th>id0000001</th>\n",
       "      <td>1174.27</td>\n",
       "      <td>4980.98</td>\n",
       "      <td>2638.24</td>\n",
       "      <td>0.0</td>\n",
       "      <td>4480.91</td>\n",
       "      <td>2329.72</td>\n",
       "      <td>480.72</td>\n",
       "    </tr>\n",
       "    <tr>\n",
       "      <th>id0000002</th>\n",
       "      <td>842.12</td>\n",
       "      <td>5646.09</td>\n",
       "      <td>3336.07</td>\n",
       "      <td>0.0</td>\n",
       "      <td>5624.22</td>\n",
       "      <td>2669.98</td>\n",
       "      <td>504.17</td>\n",
       "    </tr>\n",
       "  </tbody>\n",
       "</table>\n",
       "</div>"
      ],
      "text/plain": [
       "           Ativo01  Ativo02  Ativo03  Ativo04  Ativo05  Ativo06  Ativo07\n",
       "id                                                                      \n",
       "id0000001  1174.27  4980.98  2638.24      0.0  4480.91  2329.72   480.72\n",
       "id0000002   842.12  5646.09  3336.07      0.0  5624.22  2669.98   504.17"
      ]
     },
     "metadata": {},
     "output_type": "display_data"
    },
    {
     "data": {
      "text/html": [
       "<div>\n",
       "<style scoped>\n",
       "    .dataframe tbody tr th:only-of-type {\n",
       "        vertical-align: middle;\n",
       "    }\n",
       "\n",
       "    .dataframe tbody tr th {\n",
       "        vertical-align: top;\n",
       "    }\n",
       "\n",
       "    .dataframe thead th {\n",
       "        text-align: right;\n",
       "    }\n",
       "</style>\n",
       "<table border=\"1\" class=\"dataframe\">\n",
       "  <thead>\n",
       "    <tr style=\"text-align: right;\">\n",
       "      <th></th>\n",
       "      <th>Total faltante</th>\n",
       "      <th>Porcentagem faltante</th>\n",
       "    </tr>\n",
       "  </thead>\n",
       "  <tbody>\n",
       "    <tr>\n",
       "      <th>Ativo01</th>\n",
       "      <td>0</td>\n",
       "      <td>0.00%</td>\n",
       "    </tr>\n",
       "    <tr>\n",
       "      <th>Ativo02</th>\n",
       "      <td>0</td>\n",
       "      <td>0.00%</td>\n",
       "    </tr>\n",
       "    <tr>\n",
       "      <th>Ativo03</th>\n",
       "      <td>0</td>\n",
       "      <td>0.00%</td>\n",
       "    </tr>\n",
       "    <tr>\n",
       "      <th>Ativo04</th>\n",
       "      <td>0</td>\n",
       "      <td>0.00%</td>\n",
       "    </tr>\n",
       "    <tr>\n",
       "      <th>Ativo05</th>\n",
       "      <td>0</td>\n",
       "      <td>0.00%</td>\n",
       "    </tr>\n",
       "    <tr>\n",
       "      <th>Ativo06</th>\n",
       "      <td>0</td>\n",
       "      <td>0.00%</td>\n",
       "    </tr>\n",
       "    <tr>\n",
       "      <th>Ativo07</th>\n",
       "      <td>0</td>\n",
       "      <td>0.00%</td>\n",
       "    </tr>\n",
       "  </tbody>\n",
       "</table>\n",
       "</div>"
      ],
      "text/plain": [
       "         Total faltante Porcentagem faltante\n",
       "Ativo01               0                0.00%\n",
       "Ativo02               0                0.00%\n",
       "Ativo03               0                0.00%\n",
       "Ativo04               0                0.00%\n",
       "Ativo05               0                0.00%\n",
       "Ativo06               0                0.00%\n",
       "Ativo07               0                0.00%"
      ]
     },
     "metadata": {},
     "output_type": "display_data"
    }
   ],
   "source": [
    "dfunidos.loc[:,'Ativo01':'Ativo07'] = dfunidos.loc[:,'Ativo01':'Ativo07'].fillna(value=0)\n",
    "display(dfunidos.loc[:,'Ativo01':'Ativo07'].head(2))\n",
    "data = { 'Total faltante':dfunidos.isnull().sum(),\n",
    "'Porcentagem faltante':dfunidos.isnull().mean().round(4).mul(100).apply(lambda numero: f'{numero:.2f}%')\n",
    "}\n",
    "newdf = pd.DataFrame(data)\n",
    "display(newdf.loc['Ativo01':'Ativo07'])"
   ]
  },
  {
   "cell_type": "markdown",
   "id": "c6bcc446",
   "metadata": {},
   "source": [
    "### Tratamento valores ausentes nas colunas de NOTAS"
   ]
  },
  {
   "cell_type": "code",
   "execution_count": null,
   "id": "b88d8f62",
   "metadata": {},
   "outputs": [
    {
     "data": {
      "text/html": [
       "<div>\n",
       "<style scoped>\n",
       "    .dataframe tbody tr th:only-of-type {\n",
       "        vertical-align: middle;\n",
       "    }\n",
       "\n",
       "    .dataframe tbody tr th {\n",
       "        vertical-align: top;\n",
       "    }\n",
       "\n",
       "    .dataframe thead th {\n",
       "        text-align: right;\n",
       "    }\n",
       "</style>\n",
       "<table border=\"1\" class=\"dataframe\">\n",
       "  <thead>\n",
       "    <tr style=\"text-align: right;\">\n",
       "      <th></th>\n",
       "      <th>Total faltante</th>\n",
       "      <th>Porcentagem faltante</th>\n",
       "    </tr>\n",
       "  </thead>\n",
       "  <tbody>\n",
       "    <tr>\n",
       "      <th>Nota1</th>\n",
       "      <td>3000</td>\n",
       "      <td>7.74%</td>\n",
       "    </tr>\n",
       "    <tr>\n",
       "      <th>Nota2</th>\n",
       "      <td>2000</td>\n",
       "      <td>5.16%</td>\n",
       "    </tr>\n",
       "  </tbody>\n",
       "</table>\n",
       "</div>"
      ],
      "text/plain": [
       "       Total faltante Porcentagem faltante\n",
       "Nota1            3000                7.74%\n",
       "Nota2            2000                5.16%"
      ]
     },
     "metadata": {},
     "output_type": "display_data"
    },
    {
     "name": "stdout",
     "output_type": "stream",
     "text": [
      "Número de registros com ausência de NOTA1 E NOTA2:  165\n"
     ]
    }
   ],
   "source": [
    "display(newdf.loc['Nota1':'Nota2'])\n",
    "print('Número de registros com ausência de NOTA1 E NOTA2: ',\n",
    "    dfunidos[(dfunidos['Nota2'].isna()) & (dfunidos['Nota1'].isna())].shape[0])"
   ]
  },
  {
   "cell_type": "markdown",
   "id": "99fcd118",
   "metadata": {},
   "source": [
    "Conforme a tabela (DataFrame) acima, existem 3.000 dados faltantes na coluna NOTA1 e 2.000 faltantes em NOTA2. Estes valores correspondem respectivamente a 7.74% e 5.16% do total de registros. Duas possibilidades para tratar estes dados foram levantadas:\n",
    "\n",
    "**Possibilidade 1:** Excluir os registros com dados faltantes. Com isso, seriam excluídos 4835 registros (3000 + 2000 - 165), aproximadamente 12.5% do total de registros.\n",
    "\n",
    "**Possibilidade 2:** Criar um modelo para inserir estes dados de modo que as medidas de tendência central e de dispersão permaneçam inalteradas."
   ]
  },
  {
   "cell_type": "markdown",
   "id": "7b7b8451",
   "metadata": {},
   "source": [
    "A seguir, trataremos os dados de acordo com cada uma destas possibilidades separadamente. Primeiramente, vamos analisar as medidas estatísticas obtidas de acordo com a possibilidade 1. Em seguida, de acordo com a possibilidade 2, vamos inserir os dados faltantes conforme a distribuição dos dados conhecidos. As justificativas para o uso de ambas as abordagens serão devidamente apresentadas ao longo do nosso desenvolvimento."
   ]
  },
  {
   "cell_type": "markdown",
   "id": "589927d2",
   "metadata": {},
   "source": [
    "#### **Possibilidade 1:** Eliminando linhas que possuem dados faltantes"
   ]
  },
  {
   "cell_type": "markdown",
   "id": "6896805d",
   "metadata": {},
   "source": [
    "Como o título acima sugere, este método consiste em apagar as linhas que possuem dados ausentes. Se os dados faltantes estão aleatoriamente distribuídos, esta abordagem diminui o grau especulativo de nossa análise, visto que neste caso trabalhamos somente com os dados devidamente registrados no banco. Portanto, qualquer possível ocorrência de viéses estatísticos será devida a processos anteriores a nossa análise (ex: coleta, armazenamento, etc.). "
   ]
  },
  {
   "cell_type": "code",
   "execution_count": null,
   "id": "f4604f60",
   "metadata": {},
   "outputs": [],
   "source": [
    "df_possib1 = dfunidos.dropna()"
   ]
  },
  {
   "cell_type": "code",
   "execution_count": null,
   "id": "bb104ff8",
   "metadata": {},
   "outputs": [
    {
     "data": {
      "text/html": [
       "<div>\n",
       "<style scoped>\n",
       "    .dataframe tbody tr th:only-of-type {\n",
       "        vertical-align: middle;\n",
       "    }\n",
       "\n",
       "    .dataframe tbody tr th {\n",
       "        vertical-align: top;\n",
       "    }\n",
       "\n",
       "    .dataframe thead th {\n",
       "        text-align: right;\n",
       "    }\n",
       "</style>\n",
       "<table border=\"1\" class=\"dataframe\">\n",
       "  <thead>\n",
       "    <tr style=\"text-align: right;\">\n",
       "      <th></th>\n",
       "      <th>Nota1</th>\n",
       "      <th>Nota2</th>\n",
       "    </tr>\n",
       "    <tr>\n",
       "      <th>id</th>\n",
       "      <th></th>\n",
       "      <th></th>\n",
       "    </tr>\n",
       "  </thead>\n",
       "  <tbody>\n",
       "    <tr>\n",
       "      <th>id0000001</th>\n",
       "      <td>79.600372</td>\n",
       "      <td>9.802620</td>\n",
       "    </tr>\n",
       "    <tr>\n",
       "      <th>id0000002</th>\n",
       "      <td>44.406893</td>\n",
       "      <td>90.512871</td>\n",
       "    </tr>\n",
       "    <tr>\n",
       "      <th>id0000003</th>\n",
       "      <td>44.020024</td>\n",
       "      <td>65.060941</td>\n",
       "    </tr>\n",
       "    <tr>\n",
       "      <th>id0000004</th>\n",
       "      <td>25.597924</td>\n",
       "      <td>86.548918</td>\n",
       "    </tr>\n",
       "    <tr>\n",
       "      <th>id0000005</th>\n",
       "      <td>14.463307</td>\n",
       "      <td>33.566292</td>\n",
       "    </tr>\n",
       "  </tbody>\n",
       "</table>\n",
       "</div>"
      ],
      "text/plain": [
       "               Nota1      Nota2\n",
       "id                             \n",
       "id0000001  79.600372   9.802620\n",
       "id0000002  44.406893  90.512871\n",
       "id0000003  44.020024  65.060941\n",
       "id0000004  25.597924  86.548918\n",
       "id0000005  14.463307  33.566292"
      ]
     },
     "metadata": {},
     "output_type": "display_data"
    }
   ],
   "source": [
    "df_possib1[['Nota1', 'Nota2']].head()"
   ]
  },
  {
   "cell_type": "code",
   "execution_count": null,
   "id": "f1c79f2f",
   "metadata": {},
   "outputs": [
    {
     "name": "stdout",
     "output_type": "stream",
     "text": [
      "Medidas estatísticas (possibilidade 1):\n"
     ]
    },
    {
     "data": {
      "text/html": [
       "<div>\n",
       "<style scoped>\n",
       "    .dataframe tbody tr th:only-of-type {\n",
       "        vertical-align: middle;\n",
       "    }\n",
       "\n",
       "    .dataframe tbody tr th {\n",
       "        vertical-align: top;\n",
       "    }\n",
       "\n",
       "    .dataframe thead th {\n",
       "        text-align: right;\n",
       "    }\n",
       "</style>\n",
       "<table border=\"1\" class=\"dataframe\">\n",
       "  <thead>\n",
       "    <tr style=\"text-align: right;\">\n",
       "      <th></th>\n",
       "      <th>Nota1</th>\n",
       "      <th>Nota2</th>\n",
       "    </tr>\n",
       "  </thead>\n",
       "  <tbody>\n",
       "    <tr>\n",
       "      <th>count</th>\n",
       "      <td>33919.000000</td>\n",
       "      <td>33919.000000</td>\n",
       "    </tr>\n",
       "    <tr>\n",
       "      <th>mean</th>\n",
       "      <td>49.828561</td>\n",
       "      <td>50.078347</td>\n",
       "    </tr>\n",
       "    <tr>\n",
       "      <th>std</th>\n",
       "      <td>28.885774</td>\n",
       "      <td>28.850321</td>\n",
       "    </tr>\n",
       "    <tr>\n",
       "      <th>min</th>\n",
       "      <td>0.003143</td>\n",
       "      <td>0.003341</td>\n",
       "    </tr>\n",
       "    <tr>\n",
       "      <th>25%</th>\n",
       "      <td>24.874012</td>\n",
       "      <td>25.089794</td>\n",
       "    </tr>\n",
       "    <tr>\n",
       "      <th>50%</th>\n",
       "      <td>49.621518</td>\n",
       "      <td>50.112680</td>\n",
       "    </tr>\n",
       "    <tr>\n",
       "      <th>75%</th>\n",
       "      <td>74.886229</td>\n",
       "      <td>75.008704</td>\n",
       "    </tr>\n",
       "    <tr>\n",
       "      <th>max</th>\n",
       "      <td>99.996659</td>\n",
       "      <td>99.999535</td>\n",
       "    </tr>\n",
       "  </tbody>\n",
       "</table>\n",
       "</div>"
      ],
      "text/plain": [
       "              Nota1         Nota2\n",
       "count  33919.000000  33919.000000\n",
       "mean      49.828561     50.078347\n",
       "std       28.885774     28.850321\n",
       "min        0.003143      0.003341\n",
       "25%       24.874012     25.089794\n",
       "50%       49.621518     50.112680\n",
       "75%       74.886229     75.008704\n",
       "max       99.996659     99.999535"
      ]
     },
     "metadata": {},
     "output_type": "display_data"
    }
   ],
   "source": [
    "print('Medidas estatísticas (possibilidade 1):')\n",
    "df_possib1[['Nota1', 'Nota2']].describe()"
   ]
  },
  {
   "cell_type": "markdown",
   "id": "844c2a0d",
   "metadata": {},
   "source": [
    "#### **Possibilidade 2:** Preenchendo linhas que possuem dados faltantes"
   ]
  },
  {
   "cell_type": "markdown",
   "id": "f6dba96a",
   "metadata": {},
   "source": [
    "Este método consiste em estimar os valores dos dados faltantes com base na distribuição dos dados coletados. Neste cenário, assumimos tacitamente que os dados ausentes seguem uma distribuição aproximadamente igual a distribuição dos dados registrados."
   ]
  },
  {
   "cell_type": "markdown",
   "id": "be7dd2ea",
   "metadata": {},
   "source": [
    "Antes de preencher as linhas que possuem dados faltantes, é salutar observar o perfil da distribuição dos dados registrados. Como a fração de dados ausentes é significativamente menor (aproximadamente 10x menor) que o total de registros, caso a distribuição de dados registrados siga um padrão que possa ser bem aproximado por uma distribuição conhecida, poderemos estimar os dados faltantes com razoável confiabilidade. "
   ]
  },
  {
   "cell_type": "markdown",
   "id": "423a52e0",
   "metadata": {},
   "source": [
    "Inicialmente, usaremos histogramas para observar como as notas estão distribuídas"
   ]
  },
  {
   "cell_type": "code",
   "execution_count": null,
   "id": "f394a66d",
   "metadata": {},
   "outputs": [
    {
     "data": {
      "image/png": "[encoded data removed]",
      "text/plain": [
       "<Figure size 720x216 with 2 Axes>"
      ]
     },
     "metadata": {},
     "output_type": "display_data"
    }
   ],
   "source": [
    "import matplotlib.pyplot as plt\n",
    "\n",
    "plt.figure(figsize=(10, 3))\n",
    "plt.subplot(1, 2, 1)\n",
    "plt.hist(dfunidos['Nota1'],bins=100)\n",
    "plt.title('Distribuição Notas1')\n",
    "plt.plot()\n",
    "plt.subplot(1, 2, 2)\n",
    "plt.hist(dfunidos['Nota2'],bins=100)\n",
    "plt.title('Distribuição Notas2')\n",
    "plt.plot()\n",
    "plt.show()"
   ]
  },
  {
   "cell_type": "markdown",
   "id": "aa010b24",
   "metadata": {},
   "source": [
    "Além disso, podemos verificar as estatísticas descritivas da base de dados"
   ]
  },
  {
   "cell_type": "code",
   "execution_count": null,
   "id": "3ad94358",
   "metadata": {},
   "outputs": [
    {
     "data": {
      "text/html": [
       "<div>\n",
       "<style scoped>\n",
       "    .dataframe tbody tr th:only-of-type {\n",
       "        vertical-align: middle;\n",
       "    }\n",
       "\n",
       "    .dataframe tbody tr th {\n",
       "        vertical-align: top;\n",
       "    }\n",
       "\n",
       "    .dataframe thead th {\n",
       "        text-align: right;\n",
       "    }\n",
       "</style>\n",
       "<table border=\"1\" class=\"dataframe\">\n",
       "  <thead>\n",
       "    <tr style=\"text-align: right;\">\n",
       "      <th></th>\n",
       "      <th>Nota1</th>\n",
       "      <th>Nota2</th>\n",
       "    </tr>\n",
       "  </thead>\n",
       "  <tbody>\n",
       "    <tr>\n",
       "      <th>count</th>\n",
       "      <td>35754.000000</td>\n",
       "      <td>36754.000000</td>\n",
       "    </tr>\n",
       "    <tr>\n",
       "      <th>mean</th>\n",
       "      <td>49.821094</td>\n",
       "      <td>50.075481</td>\n",
       "    </tr>\n",
       "    <tr>\n",
       "      <th>std</th>\n",
       "      <td>28.899854</td>\n",
       "      <td>28.863426</td>\n",
       "    </tr>\n",
       "    <tr>\n",
       "      <th>min</th>\n",
       "      <td>0.003143</td>\n",
       "      <td>0.003341</td>\n",
       "    </tr>\n",
       "    <tr>\n",
       "      <th>25%</th>\n",
       "      <td>24.856973</td>\n",
       "      <td>25.116931</td>\n",
       "    </tr>\n",
       "    <tr>\n",
       "      <th>50%</th>\n",
       "      <td>49.584430</td>\n",
       "      <td>50.064592</td>\n",
       "    </tr>\n",
       "    <tr>\n",
       "      <th>75%</th>\n",
       "      <td>74.949831</td>\n",
       "      <td>75.024430</td>\n",
       "    </tr>\n",
       "    <tr>\n",
       "      <th>max</th>\n",
       "      <td>99.996659</td>\n",
       "      <td>99.999535</td>\n",
       "    </tr>\n",
       "  </tbody>\n",
       "</table>\n",
       "</div>"
      ],
      "text/plain": [
       "              Nota1         Nota2\n",
       "count  35754.000000  36754.000000\n",
       "mean      49.821094     50.075481\n",
       "std       28.899854     28.863426\n",
       "min        0.003143      0.003341\n",
       "25%       24.856973     25.116931\n",
       "50%       49.584430     50.064592\n",
       "75%       74.949831     75.024430\n",
       "max       99.996659     99.999535"
      ]
     },
     "metadata": {},
     "output_type": "display_data"
    }
   ],
   "source": [
    "display(dfunidos[['Nota1','Nota2']].describe())"
   ]
  },
  {
   "cell_type": "markdown",
   "id": "0d8a44db",
   "metadata": {},
   "source": [
    "De acordo com os gráficos e com os valores das estatísticas descritivas apresentados acima, observamos que as notas parecem estar uniformemente distribuídas no intervalo de 0 a 100. Sendo assim, vamos supor que as notas ausentes seguem a mesma distribuição estimada para as notas registradas e preencher os campos vazios do DataFrame de acordo com esta hipótese."
   ]
  },
  {
   "cell_type": "code",
   "execution_count": null,
   "id": "47605ef5",
   "metadata": {},
   "outputs": [],
   "source": [
    "# Função para preencher as colunas com dados faltantes\n",
    "\n",
    "def fill_in_random_data(df, colunas):\n",
    "    \"\"\"\n",
    "    Esta função preenche os dados ausentes do DataFrame (df) com uma distribuição aleatória de valores entre 0 e 100.\n",
    "    \"\"\"\n",
    "    import numpy as np\n",
    "    \n",
    "    for col in colunas:\n",
    "        \n",
    "        # Gerando dados aleatoriamente\n",
    "        num_dados_ausentes = df[col].isnull().sum()\n",
    "        np.random.seed(87) # fixando uma `seed` arbitrária\n",
    "        dados_gerados =  (np.random.rand(num_dados_ausentes)*100).round(6)\n",
    "        dados_gerados = pd.Series(dados_gerados)\n",
    "        \n",
    "        # Redefinindo índice dos dados gerados\n",
    "        dados_gerados.index = df[df[col].isnull()].index\n",
    "        \n",
    "        # Preenchendo os campos vazios do dataframe\n",
    "        df.loc[df[col].isnull(), col] = dados_gerados\n",
    "        \n",
    "    return df"
   ]
  },
  {
   "cell_type": "code",
   "execution_count": null,
   "id": "6d7ff20f",
   "metadata": {},
   "outputs": [],
   "source": [
    "# Copiando a base de dados\n",
    "df_possib2 = dfunidos.copy()\n",
    "\n",
    "# Preenchendo os campos com dados ausentes nas colunas de NOTAS \n",
    "df_possib2 = fill_in_random_data(df_possib2, ['Nota1', 'Nota2'])"
   ]
  },
  {
   "cell_type": "code",
   "execution_count": null,
   "id": "a0be6870",
   "metadata": {},
   "outputs": [
    {
     "name": "stdout",
     "output_type": "stream",
     "text": [
      "Dados faltantes nas colunas de notas\n"
     ]
    },
    {
     "data": {
      "text/plain": [
       "Nota1    0\n",
       "Nota2    0\n",
       "dtype: int64"
      ]
     },
     "metadata": {},
     "output_type": "display_data"
    }
   ],
   "source": [
    "# Verificando que não há mais dados faltantes nas colunas de notas\n",
    "print(\"Dados faltantes nas colunas de notas\")\n",
    "df_possib2.loc[:,['Nota1','Nota2']].isnull().sum()"
   ]
  },
  {
   "cell_type": "code",
   "execution_count": null,
   "id": "ea79e65a",
   "metadata": {},
   "outputs": [
    {
     "name": "stdout",
     "output_type": "stream",
     "text": [
      "Medidas estatísticas (possibilidade 2):\n"
     ]
    },
    {
     "data": {
      "text/html": [
       "<div>\n",
       "<style scoped>\n",
       "    .dataframe tbody tr th:only-of-type {\n",
       "        vertical-align: middle;\n",
       "    }\n",
       "\n",
       "    .dataframe tbody tr th {\n",
       "        vertical-align: top;\n",
       "    }\n",
       "\n",
       "    .dataframe thead th {\n",
       "        text-align: right;\n",
       "    }\n",
       "</style>\n",
       "<table border=\"1\" class=\"dataframe\">\n",
       "  <thead>\n",
       "    <tr style=\"text-align: right;\">\n",
       "      <th></th>\n",
       "      <th>Nota1</th>\n",
       "      <th>Nota2</th>\n",
       "    </tr>\n",
       "  </thead>\n",
       "  <tbody>\n",
       "    <tr>\n",
       "      <th>count</th>\n",
       "      <td>38754.000000</td>\n",
       "      <td>38754.000000</td>\n",
       "    </tr>\n",
       "    <tr>\n",
       "      <th>mean</th>\n",
       "      <td>49.852010</td>\n",
       "      <td>50.074155</td>\n",
       "    </tr>\n",
       "    <tr>\n",
       "      <th>std</th>\n",
       "      <td>28.892386</td>\n",
       "      <td>28.863080</td>\n",
       "    </tr>\n",
       "    <tr>\n",
       "      <th>min</th>\n",
       "      <td>0.003143</td>\n",
       "      <td>0.003341</td>\n",
       "    </tr>\n",
       "    <tr>\n",
       "      <th>25%</th>\n",
       "      <td>24.887437</td>\n",
       "      <td>25.116931</td>\n",
       "    </tr>\n",
       "    <tr>\n",
       "      <th>50%</th>\n",
       "      <td>49.644963</td>\n",
       "      <td>50.082982</td>\n",
       "    </tr>\n",
       "    <tr>\n",
       "      <th>75%</th>\n",
       "      <td>74.964010</td>\n",
       "      <td>75.006106</td>\n",
       "    </tr>\n",
       "    <tr>\n",
       "      <th>max</th>\n",
       "      <td>99.996659</td>\n",
       "      <td>99.999535</td>\n",
       "    </tr>\n",
       "  </tbody>\n",
       "</table>\n",
       "</div>"
      ],
      "text/plain": [
       "              Nota1         Nota2\n",
       "count  38754.000000  38754.000000\n",
       "mean      49.852010     50.074155\n",
       "std       28.892386     28.863080\n",
       "min        0.003143      0.003341\n",
       "25%       24.887437     25.116931\n",
       "50%       49.644963     50.082982\n",
       "75%       74.964010     75.006106\n",
       "max       99.996659     99.999535"
      ]
     },
     "metadata": {},
     "output_type": "display_data"
    }
   ],
   "source": [
    "print('Medidas estatísticas (possibilidade 2):')\n",
    "df_possib2[['Nota1', 'Nota2']].describe()"
   ]
  },
  {
   "cell_type": "markdown",
   "id": "d92b9296",
   "metadata": {},
   "source": [
    "Observe que as medidas estatísticas obtidas são bastante próximas das medidas encontradas usando o método anterior. \n",
    "\n",
    "Sumarizando nosso desenvolvimento neste item, concluímos que, desde que a distribuição de dados possa ser estimada com um nível satisfatório de confiança, este método possui a vantagem de preservar as medidas estatísticas descritivas (média, desvio padrão, etc.) da base de dados inicial. Além disso, como este método não requer a exclusão de registros, isto permite que nossa análise seja realizada em uma base de dados maior. Esta abordagem é útil na análise de comportamentos e tendências globais (\"macro\") dos dados. No entanto, em uma análise local (\"micro\"), para a qual a confiabilidade de cada registro é imprescindível (ex: considere o caso em precisamos consultar a nota dada por um cliente específico), esta abordagem levaria a falsas interpretações e, por conseguinte, falsas conclusões. Assim, concluímos que este método deve ser aplicado com a devida cautela e somente para a análise de tendências globais do conjunto de dados."
   ]
  },
  {
   "cell_type": "markdown",
   "id": "85ae4e81",
   "metadata": {
    "id": "85ae4e81"
   },
   "source": [
    "## 7 - Manipule os dados a seguir:\n",
    "- Criar coluna \"Total\" somando o valor de todos os ativos por investidor\n",
    "- Criar coluna \"Media\" com a média das notas 1 e 2\n",
    "- Criar coluna \"Dominio\" com apenas o domínio do email (dica: separar por @)\n",
    "- Mudar o nome da coluna \"Salário\" para \"Renda\" e tratar a coluna (sem caracter $ e tipo numérica)\n",
    "- Mudar os dados da coluna \"Sexo\" para Masculino e Feminino (tente usar o map)\n",
    "- Transformar os dados da coluna Media em inteiro\n",
    "- Criar coluna \"NPS\" onde o investidor é promotor se a média das notas é maior igual a 80, neutro se a média estiver entre 50 e 80, e detrator se for abaixo de 50\n"
   ]
  },
  {
   "cell_type": "code",
   "execution_count": 162,
   "id": "04ceVdIvLrN6",
   "metadata": {
    "colab": {
     "base_uri": "https://localhost:8080/",
     "height": 507
    },
    "id": "04ceVdIvLrN6",
    "outputId": "49c5a666-e710-4121-8f6c-f5733925ed55"
   },
   "outputs": [
    {
     "name": "stdout",
     "output_type": "stream",
     "text": [
      "<class 'pandas.core.frame.DataFrame'>\n",
      "Index: 38754 entries, id0000001 to id0038754\n",
      "Data columns (total 23 columns):\n",
      " #   Column    Non-Null Count  Dtype  \n",
      "---  ------    --------------  -----  \n",
      " 0   Nome      38754 non-null  object \n",
      " 1   Sexo      38754 non-null  object \n",
      " 2   Nasc      38754 non-null  object \n",
      " 3   Idade     38754 non-null  int64  \n",
      " 4   Email     38754 non-null  object \n",
      " 5   Lat_long  38754 non-null  object \n",
      " 6   Job       38754 non-null  object \n",
      " 7   Estado    38754 non-null  object \n",
      " 8   Renda     38754 non-null  float64\n",
      " 9   Perfil    38754 non-null  object \n",
      " 10  Ativo01   38754 non-null  float64\n",
      " 11  Ativo02   38754 non-null  float64\n",
      " 12  Ativo03   38754 non-null  float64\n",
      " 13  Ativo04   38754 non-null  float64\n",
      " 14  Ativo05   38754 non-null  float64\n",
      " 15  Ativo06   38754 non-null  float64\n",
      " 16  Ativo07   38754 non-null  float64\n",
      " 17  Nota1     35754 non-null  float64\n",
      " 18  Nota2     36754 non-null  float64\n",
      " 19  Total     38754 non-null  float64\n",
      " 20  Media     38589 non-null  float64\n",
      " 21  Dominio   38754 non-null  object \n",
      " 22  NPS       38754 non-null  object \n",
      "dtypes: float64(12), int64(1), object(10)\n",
      "memory usage: 7.1+ MB\n"
     ]
    },
    {
     "data": {
      "text/html": [
       "<div>\n",
       "<style scoped>\n",
       "    .dataframe tbody tr th:only-of-type {\n",
       "        vertical-align: middle;\n",
       "    }\n",
       "\n",
       "    .dataframe tbody tr th {\n",
       "        vertical-align: top;\n",
       "    }\n",
       "\n",
       "    .dataframe thead th {\n",
       "        text-align: right;\n",
       "    }\n",
       "</style>\n",
       "<table border=\"1\" class=\"dataframe\">\n",
       "  <thead>\n",
       "    <tr style=\"text-align: right;\">\n",
       "      <th></th>\n",
       "      <th>Nome</th>\n",
       "      <th>Sexo</th>\n",
       "      <th>Nasc</th>\n",
       "      <th>Idade</th>\n",
       "      <th>Email</th>\n",
       "      <th>Lat_long</th>\n",
       "      <th>Job</th>\n",
       "      <th>Estado</th>\n",
       "      <th>Renda</th>\n",
       "      <th>Perfil</th>\n",
       "      <th>...</th>\n",
       "      <th>Ativo04</th>\n",
       "      <th>Ativo05</th>\n",
       "      <th>Ativo06</th>\n",
       "      <th>Ativo07</th>\n",
       "      <th>Nota1</th>\n",
       "      <th>Nota2</th>\n",
       "      <th>Total</th>\n",
       "      <th>Media</th>\n",
       "      <th>Dominio</th>\n",
       "      <th>NPS</th>\n",
       "    </tr>\n",
       "    <tr>\n",
       "      <th>id</th>\n",
       "      <th></th>\n",
       "      <th></th>\n",
       "      <th></th>\n",
       "      <th></th>\n",
       "      <th></th>\n",
       "      <th></th>\n",
       "      <th></th>\n",
       "      <th></th>\n",
       "      <th></th>\n",
       "      <th></th>\n",
       "      <th></th>\n",
       "      <th></th>\n",
       "      <th></th>\n",
       "      <th></th>\n",
       "      <th></th>\n",
       "      <th></th>\n",
       "      <th></th>\n",
       "      <th></th>\n",
       "      <th></th>\n",
       "      <th></th>\n",
       "      <th></th>\n",
       "    </tr>\n",
       "  </thead>\n",
       "  <tbody>\n",
       "    <tr>\n",
       "      <th>id0000001</th>\n",
       "      <td>Eunice Hellen do Vale</td>\n",
       "      <td>Feminino</td>\n",
       "      <td>1970-11-12</td>\n",
       "      <td>51</td>\n",
       "      <td>djones@yahoo.com</td>\n",
       "      <td>(Decimal('24.7024355'), Decimal('-28.038258'))</td>\n",
       "      <td>Technical author</td>\n",
       "      <td>TO</td>\n",
       "      <td>63.67</td>\n",
       "      <td>Moderado</td>\n",
       "      <td>...</td>\n",
       "      <td>0.0</td>\n",
       "      <td>4480.91</td>\n",
       "      <td>2329.72</td>\n",
       "      <td>480.72</td>\n",
       "      <td>79.600372</td>\n",
       "      <td>9.802620</td>\n",
       "      <td>16084.84</td>\n",
       "      <td>44.701496</td>\n",
       "      <td>yahoo.com</td>\n",
       "      <td>Detrator</td>\n",
       "    </tr>\n",
       "    <tr>\n",
       "      <th>id0000002</th>\n",
       "      <td>Sebastião Castelo Branco Júnior</td>\n",
       "      <td>Masculino</td>\n",
       "      <td>2019-12-10</td>\n",
       "      <td>2</td>\n",
       "      <td>barnesandrea@yahoo.com</td>\n",
       "      <td>(Decimal('21.8589875'), Decimal('122.830566'))</td>\n",
       "      <td>Biochemist, clinical</td>\n",
       "      <td>DF</td>\n",
       "      <td>21.96</td>\n",
       "      <td>Moderado</td>\n",
       "      <td>...</td>\n",
       "      <td>0.0</td>\n",
       "      <td>5624.22</td>\n",
       "      <td>2669.98</td>\n",
       "      <td>504.17</td>\n",
       "      <td>44.406893</td>\n",
       "      <td>90.512871</td>\n",
       "      <td>18622.65</td>\n",
       "      <td>67.459882</td>\n",
       "      <td>yahoo.com</td>\n",
       "      <td>Neutro</td>\n",
       "    </tr>\n",
       "  </tbody>\n",
       "</table>\n",
       "<p>2 rows × 23 columns</p>\n",
       "</div>"
      ],
      "text/plain": [
       "                                      Nome       Sexo        Nasc  Idade  \\\n",
       "id                                                                         \n",
       "id0000001            Eunice Hellen do Vale   Feminino  1970-11-12     51   \n",
       "id0000002  Sebastião Castelo Branco Júnior  Masculino  2019-12-10      2   \n",
       "\n",
       "                            Email  \\\n",
       "id                                  \n",
       "id0000001        djones@yahoo.com   \n",
       "id0000002  barnesandrea@yahoo.com   \n",
       "\n",
       "                                                 Lat_long  \\\n",
       "id                                                          \n",
       "id0000001  (Decimal('24.7024355'), Decimal('-28.038258'))   \n",
       "id0000002  (Decimal('21.8589875'), Decimal('122.830566'))   \n",
       "\n",
       "                            Job Estado  Renda    Perfil  ...  Ativo04  \\\n",
       "id                                                       ...            \n",
       "id0000001      Technical author     TO  63.67  Moderado  ...      0.0   \n",
       "id0000002  Biochemist, clinical     DF  21.96  Moderado  ...      0.0   \n",
       "\n",
       "           Ativo05  Ativo06  Ativo07      Nota1      Nota2     Total  \\\n",
       "id                                                                     \n",
       "id0000001  4480.91  2329.72   480.72  79.600372   9.802620  16084.84   \n",
       "id0000002  5624.22  2669.98   504.17  44.406893  90.512871  18622.65   \n",
       "\n",
       "               Media    Dominio       NPS  \n",
       "id                                         \n",
       "id0000001  44.701496  yahoo.com  Detrator  \n",
       "id0000002  67.459882  yahoo.com    Neutro  \n",
       "\n",
       "[2 rows x 23 columns]"
      ]
     },
     "metadata": {},
     "output_type": "display_data"
    }
   ],
   "source": [
    "#Criando coluna Total\n",
    "dfunidos['Total'] = dfunidos[dfunidos.columns[dfunidos.columns.get_loc('Ativo01'):1+dfunidos.columns.get_loc('Ativo07')]].sum(axis=1)\n",
    "#Criando coluna Média\n",
    "dfunidos['Media'] = dfunidos[['Nota1','Nota2']].mean(axis=1)\n",
    "#Criando coluna Dominio\n",
    "dfunidos['Dominio'] = dfunidos['Email'].str.split('@', expand = True)[1]\n",
    "#Renomeando coluna salário e removendo sinal '$'\n",
    "dfunidos.rename(columns={'Salario': 'Renda'}, inplace = True)\n",
    "dfunidos['Renda'] = dfunidos['Renda'].str.split('$', expand = True)[1].astype(float)\n",
    "#Mudar os dados da coluna \"Sexo\" para Masculino e Feminino (tente usar o map)\n",
    "dicio = {\"Masc\": \"Masculino\", \"Fem\": \"Feminino\"}\n",
    "dfunidos['Sexo'] = dfunidos['Sexo'].map(dicio)\n",
    "#Criar coluna \"NPS\" onde o investidor é promotor se a média das notas é maior igual a 80, neutro se a média estiver entre 50 e 80, e detrator se for abaixo de 50\n",
    "def nps(media):\n",
    "  if media >=80:\n",
    "    return 'Promotor'\n",
    "  elif media>=50:\n",
    "    return 'Neutro'\n",
    "  else:\n",
    "    return 'Detrator'\n",
    "dfunidos['NPS'] = dfunidos['Media'].map(nps)\n",
    "#Criando coluna de média das notas\n",
    "#dfunidos['Media'] = dfunidos['Media'].astype(int)\n",
    "\n",
    "#PRECISA IMPLEMENTAR TRATAMENTO DAS NOTAS ANTES!!!\n",
    "dfunidos.info()\n",
    "display(dfunidos.head(2))"
   ]
  },
  {
   "cell_type": "markdown",
   "id": "767fc018",
   "metadata": {
    "id": "767fc018"
   },
   "source": [
    "## 8 - Calcule os seguintes dados\n",
    "- Calcule o total investido em cada coluna Ativo (tente usar o apply)\n",
    "- Qual o menor valor investido em cada ativo?\n",
    "- Mostre a média e desvio padrão de cada ativo\n",
    "- Qual a idade do investidor mais velho?\n",
    "- Qual a mediana da coluna Média?"
   ]
  },
  {
   "cell_type": "code",
   "execution_count": null,
   "id": "c752b934",
   "metadata": {},
   "outputs": [],
   "source": []
  },
  {
   "cell_type": "code",
   "execution_count": null,
   "id": "992d886b",
   "metadata": {
    "id": "992d886b"
   },
   "outputs": [],
   "source": []
  },
  {
   "cell_type": "markdown",
   "id": "0f074caf",
   "metadata": {
    "id": "0f074caf"
   },
   "source": [
    "## 9 - Responder as perguntas abaixo\n",
    "\n",
    "- Quantos investidores são promotores?\n",
    "- Quantos investidores são do sexo feminino?\n",
    "- Quantos investidores investiram mais de 16000 no Ativo04?\n",
    "- Quantos investidores investiram mais de 16000 no Ativo04 e menos de 5000 no Ativo05?\n",
    "- Quantos investidores do sexo feminino tem mais de 25 anos e investiu menos de 10000? (bonus: por que esse dado seria importante para a estratégia da nossa empresa?\n",
    "\n",
    "- Quantos investidores tem em cada estado (dica: use groupby)\n",
    "- Qual é a soma do total investido por cada estado?\n",
    "- Como os investidores se distribuem em promotores, detratores e neutros?\n",
    "- Qual é a média do total investido por promotores, detratores e neutros?\n"
   ]
  },
  {
   "cell_type": "code",
   "execution_count": null,
   "id": "G6L0Qjjgyz1L",
   "metadata": {
    "id": "G6L0Qjjgyz1L"
   },
   "outputs": [],
   "source": []
  }
 ],
 "metadata": {
  "colab": {
   "provenance": []
  },
  "kernelspec": {
   "display_name": "Python 3 (ipykernel)",
   "language": "python",
   "name": "python3"
  },
  "language_info": {
   "codemirror_mode": {
    "name": "ipython",
    "version": 3
   },
   "file_extension": ".py",
   "mimetype": "text/x-python",
   "name": "python",
   "nbconvert_exporter": "python",
   "pygments_lexer": "ipython3",
   "version": "3.9.12"
  },
  "varInspector": {
   "cols": {
    "lenName": 16,
    "lenType": 16,
    "lenVar": 40
   },
   "kernels_config": {
    "python": {
     "delete_cmd_postfix": "",
     "delete_cmd_prefix": "del ",
     "library": "var_list.py",
     "varRefreshCmd": "print(var_dic_list())"
    },
    "r": {
     "delete_cmd_postfix": ") ",
     "delete_cmd_prefix": "rm(",
     "library": "var_list.r",
     "varRefreshCmd": "cat(var_dic_list()) "
    }
   },
   "types_to_exclude": [
    "module",
    "function",
    "builtin_function_or_method",
    "instance",
    "_Feature"
   ],
   "window_display": false
  }
 },
 "nbformat": 4,
 "nbformat_minor": 5
}
