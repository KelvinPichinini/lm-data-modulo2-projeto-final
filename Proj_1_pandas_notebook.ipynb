{
 "cells": [
  {
   "cell_type": "markdown",
   "id": "8030d55b",
   "metadata": {
    "id": "8030d55b"
   },
   "source": [
    "# Projeto Técnicas de programação I\n",
    "\n",
    "## Análise exploratória de dados/Pandas\n",
    "\n",
    "Nomes: Christyan Costa De Oliveira, Kelvin Pichinini, Luis Ernesto Beingolea Delgado\n",
    "\n",
    "Turma: 970 LM Tech Data Talents\n"
   ]
  },
  {
   "cell_type": "markdown",
   "id": "9d476103",
   "metadata": {
    "id": "9d476103"
   },
   "source": [
    "Nesse projeto trabalharemos com dados fictícios de investidores.\n",
    "\n",
    "São 3 arquivos que devem ser carregados para responder as perguntas abaixo.\n",
    "\n",
    "Para a entrega, coloque o notebook respondido no seu github (um por grupo)!"
   ]
  },
  {
   "cell_type": "markdown",
   "id": "ff348160",
   "metadata": {
    "id": "ff348160"
   },
   "source": [
    "Informações\n",
    "\n",
    "Cadastro:\n",
    "- **id** : Identificação do investidor\n",
    "- **Nome** : Nome completo do investidor \n",
    "- **Sexo** : Feminino ou masculino\n",
    "- **Nasc** : Data de nascimento\n",
    "- **Idade** : Idade do investidor \n",
    "- **Email** : E-mail do investidor\n",
    "- **Lat_long** : Dados geográficos do investidor\n",
    "- **Job** : Profisão do investidor ou do seu responsável (em inglês)\n",
    "- **Estado** : Estado onde o investidor reside\n",
    "\n",
    "Investimento:\n",
    "- **id** : Identificação do investidor\n",
    "- **Salario** : Renda do investidor ou seu responsável\n",
    "- **Perfil** : Perfil de investimento\n",
    "- **Ativo01, Ativo02, Ativo03, Ativo04, Ativo05, Ativo06, Ativo07** : O quanto de dinheiro o investidor colocou em cada ativo\n",
    "- **Nota1, Nota2** : O quanto o investidor está satisfeito com nossa empresa (2 avaliações)\n",
    "\n",
    "Lembrando que esses dados são irreais e fictícios\n"
   ]
  },
  {
   "cell_type": "markdown",
   "id": "2c93ad4b",
   "metadata": {
    "id": "2c93ad4b"
   },
   "source": [
    "Arquivo cadastro.csv\n",
    "\n",
    "\n",
    "Arquivo investimento.csv (dividido em 2 partes)"
   ]
  },
  {
   "cell_type": "markdown",
   "id": "ebdf2a14",
   "metadata": {
    "id": "ebdf2a14"
   },
   "source": [
    "### Critérios de avaliação\n",
    "\n",
    "Os seguintes itens serão avaliados:\n",
    "\n",
    "1. Reprodutibilidade do código: seu código será executado e precisa gerar os mesmos resultados apresentados por você;\n",
    "\n",
    "2. Clareza: seu código precisa ser claro e deve existir uma linha de raciocínio direta. Comente o código em pontos que julgar necessário para o entendimento total;\n",
    "\n",
    "3. Explicação de todos os processos feitos e decisões tomadas\n",
    "\n",
    "## Informações Gerais sobre o Projeto\n",
    "\n",
    "- O projeto poderá ser desenvolvido __individualmente__ ou em __grupos com até 4 pessoas__, caos façam em grupos enviar a relação de alunos do grupo para o professor;\n",
    "\n",
    "\n",
    "- Data de Entrega: 14/04/2023;\n",
    "\n",
    "- Entrega: Através do _Class_\n",
    "\n",
    "\n",
    "\n"
   ]
  },
  {
   "cell_type": "markdown",
   "id": "4ceb5d96",
   "metadata": {
    "id": "4ceb5d96"
   },
   "source": [
    "## 1 - Carregar os arquivos e cadastro, investimento1 e investimento2 e mostrar a quantidade de linhas de cada um, além das informações desses dataframes"
   ]
  },
  {
   "cell_type": "code",
   "execution_count": 2,
   "id": "61c059ab",
   "metadata": {
    "ExecuteTime": {
     "end_time": "2021-08-16T13:30:14.809532Z",
     "start_time": "2021-08-16T13:30:14.801117Z"
    },
    "colab": {
     "base_uri": "https://localhost:8080/"
    },
    "id": "61c059ab",
    "outputId": "3f5a9cef-e424-4598-e943-f8093c10266d"
   },
   "outputs": [],
   "source": [
    "import pandas as pd\n",
    "\n",
    "dfcadastro = pd.read_csv(\"cadastro.csv\", sep=\",\")\n",
    "dfinvest1 = pd.read_csv(\"investimento_parte1.csv\", sep=\",\")\n",
    "dfinvest2 = pd.read_csv(\"investimento_parte2.csv\", sep=\",\")"
   ]
  },
  {
   "cell_type": "markdown",
   "id": "5bddb7f2",
   "metadata": {},
   "source": [
    "#### Arquivo Cadastro.csv"
   ]
  },
  {
   "cell_type": "code",
   "execution_count": 3,
   "id": "ef8a3115",
   "metadata": {},
   "outputs": [
    {
     "name": "stdout",
     "output_type": "stream",
     "text": [
      "Cadastro: 38754 linhas; 9 colunas\n",
      "\n",
      "<class 'pandas.core.frame.DataFrame'>\n",
      "RangeIndex: 38754 entries, 0 to 38753\n",
      "Data columns (total 9 columns):\n",
      " #   Column    Non-Null Count  Dtype \n",
      "---  ------    --------------  ----- \n",
      " 0   id        38754 non-null  object\n",
      " 1   Nome      38754 non-null  object\n",
      " 2   Sexo      38754 non-null  object\n",
      " 3   Nasc      38754 non-null  object\n",
      " 4   Idade     38754 non-null  int64 \n",
      " 5   Email     38754 non-null  object\n",
      " 6   Lat_long  38754 non-null  object\n",
      " 7   Job       38754 non-null  object\n",
      " 8   Estado    38754 non-null  object\n",
      "dtypes: int64(1), object(8)\n",
      "memory usage: 2.7+ MB\n"
     ]
    },
    {
     "data": {
      "text/plain": [
       "None"
      ]
     },
     "metadata": {},
     "output_type": "display_data"
    }
   ],
   "source": [
    "print(\"Cadastro:\",dfcadastro.shape[0], \"linhas;\", dfcadastro.shape[1], \"colunas\\n\")\n",
    "display(dfcadastro.info())"
   ]
  },
  {
   "cell_type": "markdown",
   "id": "f9df5867",
   "metadata": {},
   "source": [
    "#### Arquivo Investimento_parte1.csv"
   ]
  },
  {
   "cell_type": "code",
   "execution_count": 169,
   "id": "cd421b92",
   "metadata": {},
   "outputs": [
    {
     "name": "stdout",
     "output_type": "stream",
     "text": [
      "investimento_parte1: 240000 linhas; 12 colunas\n",
      "\n",
      "<class 'pandas.core.frame.DataFrame'>\n",
      "RangeIndex: 20000 entries, 0 to 19999\n",
      "Data columns (total 12 columns):\n",
      " #   Column   Non-Null Count  Dtype  \n",
      "---  ------   --------------  -----  \n",
      " 0   id       20000 non-null  object \n",
      " 1   Salario  20000 non-null  object \n",
      " 2   Perfil   20000 non-null  object \n",
      " 3   Ativo01  15012 non-null  float64\n",
      " 4   Ativo02  16857 non-null  float64\n",
      " 5   Ativo03  16760 non-null  float64\n",
      " 6   Ativo04  13799 non-null  float64\n",
      " 7   Ativo05  16829 non-null  float64\n",
      " 8   Ativo06  9895 non-null   float64\n",
      " 9   Ativo07  20000 non-null  float64\n",
      " 10  Nota1    18469 non-null  float64\n",
      " 11  Nota2    18954 non-null  float64\n",
      "dtypes: float64(9), object(3)\n",
      "memory usage: 1.8+ MB\n"
     ]
    },
    {
     "data": {
      "text/plain": [
       "None"
      ]
     },
     "metadata": {},
     "output_type": "display_data"
    }
   ],
   "source": [
    "print(\"investimento_parte1:\",dfinvest1.size, \"linhas;\", dfinvest1.shape[1], \"colunas\\n\")\n",
    "display(dfinvest1.info())"
   ]
  },
  {
   "cell_type": "markdown",
   "id": "a95864f4",
   "metadata": {},
   "source": [
    "#### Arquivo Investimento_parte2.csv"
   ]
  },
  {
   "cell_type": "code",
   "execution_count": 170,
   "id": "11185d77",
   "metadata": {},
   "outputs": [
    {
     "name": "stdout",
     "output_type": "stream",
     "text": [
      "investimento_parte1 288624 linhas; 12 colunas\n",
      "\n",
      "<class 'pandas.core.frame.DataFrame'>\n",
      "RangeIndex: 24052 entries, 0 to 24051\n",
      "Data columns (total 12 columns):\n",
      " #   Column   Non-Null Count  Dtype  \n",
      "---  ------   --------------  -----  \n",
      " 0   id       24052 non-null  object \n",
      " 1   Salario  24052 non-null  object \n",
      " 2   Perfil   24052 non-null  object \n",
      " 3   Ativo01  17994 non-null  float64\n",
      " 4   Ativo02  20245 non-null  float64\n",
      " 5   Ativo03  20249 non-null  float64\n",
      " 6   Ativo04  16685 non-null  float64\n",
      " 7   Ativo05  20211 non-null  float64\n",
      " 8   Ativo06  11932 non-null  float64\n",
      " 9   Ativo07  24052 non-null  float64\n",
      " 10  Nota1    22172 non-null  float64\n",
      " 11  Nota2    22810 non-null  float64\n",
      "dtypes: float64(9), object(3)\n",
      "memory usage: 2.2+ MB\n"
     ]
    },
    {
     "data": {
      "text/plain": [
       "None"
      ]
     },
     "metadata": {},
     "output_type": "display_data"
    }
   ],
   "source": [
    "print(\"investimento_parte1\",dfinvest2.size, \"linhas;\", dfinvest2.shape[1], \"colunas\\n\")\n",
    "display(dfinvest2.info())"
   ]
  },
  {
   "cell_type": "markdown",
   "id": "de88ae37",
   "metadata": {
    "id": "de88ae37"
   },
   "source": [
    "## 2 - Juntar os dataframes de investimento1 e investimento2 em um só e ver a quantidade de linhas"
   ]
  },
  {
   "cell_type": "code",
   "execution_count": 171,
   "id": "e2c363da",
   "metadata": {
    "colab": {
     "base_uri": "https://localhost:8080/"
    },
    "id": "e2c363da",
    "outputId": "5af940c9-d3d8-4ee0-977b-0a0f6fa33040"
   },
   "outputs": [
    {
     "name": "stdout",
     "output_type": "stream",
     "text": [
      "44052 linhas\n"
     ]
    }
   ],
   "source": [
    "dfinvest = pd.concat([dfinvest1, dfinvest2])\n",
    "total_linhas = dfinvest.shape[0]\n",
    "print(total_linhas,\"linhas\")\n"
   ]
  },
  {
   "cell_type": "markdown",
   "id": "9a49fb0d",
   "metadata": {
    "id": "9a49fb0d"
   },
   "source": [
    "## 3 - Crie um novo dataframe eliminando as linhas duplicadas"
   ]
  },
  {
   "cell_type": "code",
   "execution_count": 172,
   "id": "9d26e5d9",
   "metadata": {
    "colab": {
     "base_uri": "https://localhost:8080/"
    },
    "id": "9d26e5d9",
    "outputId": "0d39bfa7-1bbd-466c-dd1c-051cdf526d1f"
   },
   "outputs": [
    {
     "name": "stdout",
     "output_type": "stream",
     "text": [
      "Foram removidas 5298 entradas duplicadas\n",
      "Restando 38754 linhas na base de dados\n"
     ]
    }
   ],
   "source": [
    "dflimpo = dfinvest.drop_duplicates()\n",
    "total_sem_duplicadas = dflimpo.shape[0]\n",
    "print(f'Foram removidas {total_linhas - total_sem_duplicadas} entradas duplicadas')\n",
    "print('Restando',total_sem_duplicadas,\"linhas na base de dados\")"
   ]
  },
  {
   "cell_type": "markdown",
   "id": "d5c4abc4",
   "metadata": {
    "id": "d5c4abc4"
   },
   "source": [
    "## 4 - Junte o dataframe de investimento com o de cadastro\n",
    "Dica: use a chave id"
   ]
  },
  {
   "cell_type": "code",
   "execution_count": 173,
   "id": "f21d58b4",
   "metadata": {
    "colab": {
     "base_uri": "https://localhost:8080/",
     "height": 974
    },
    "id": "f21d58b4",
    "outputId": "bdcfbfd0-dc68-46d5-9f20-7bd06920bea1"
   },
   "outputs": [
    {
     "name": "stdout",
     "output_type": "stream",
     "text": [
      "(38754, 20)\n"
     ]
    },
    {
     "data": {
      "text/html": [
       "<div>\n",
       "<style scoped>\n",
       "    .dataframe tbody tr th:only-of-type {\n",
       "        vertical-align: middle;\n",
       "    }\n",
       "\n",
       "    .dataframe tbody tr th {\n",
       "        vertical-align: top;\n",
       "    }\n",
       "\n",
       "    .dataframe thead th {\n",
       "        text-align: right;\n",
       "    }\n",
       "</style>\n",
       "<table border=\"1\" class=\"dataframe\">\n",
       "  <thead>\n",
       "    <tr style=\"text-align: right;\">\n",
       "      <th></th>\n",
       "      <th>id</th>\n",
       "      <th>Nome</th>\n",
       "      <th>Sexo</th>\n",
       "      <th>Nasc</th>\n",
       "      <th>Idade</th>\n",
       "      <th>Email</th>\n",
       "      <th>Lat_long</th>\n",
       "      <th>Job</th>\n",
       "      <th>Estado</th>\n",
       "      <th>Salario</th>\n",
       "      <th>Perfil</th>\n",
       "      <th>Ativo01</th>\n",
       "      <th>Ativo02</th>\n",
       "      <th>Ativo03</th>\n",
       "      <th>Ativo04</th>\n",
       "      <th>Ativo05</th>\n",
       "      <th>Ativo06</th>\n",
       "      <th>Ativo07</th>\n",
       "      <th>Nota1</th>\n",
       "      <th>Nota2</th>\n",
       "    </tr>\n",
       "  </thead>\n",
       "  <tbody>\n",
       "    <tr>\n",
       "      <th>0</th>\n",
       "      <td>id0000001</td>\n",
       "      <td>Eunice Hellen do Vale</td>\n",
       "      <td>Fem</td>\n",
       "      <td>1970-11-12</td>\n",
       "      <td>51</td>\n",
       "      <td>djones@yahoo.com</td>\n",
       "      <td>(Decimal('24.7024355'), Decimal('-28.038258'))</td>\n",
       "      <td>Technical author</td>\n",
       "      <td>TO</td>\n",
       "      <td>$63.67</td>\n",
       "      <td>Moderado</td>\n",
       "      <td>1174.27</td>\n",
       "      <td>4980.98</td>\n",
       "      <td>2638.24</td>\n",
       "      <td>NaN</td>\n",
       "      <td>4480.91</td>\n",
       "      <td>2329.72</td>\n",
       "      <td>480.72</td>\n",
       "      <td>79.600372</td>\n",
       "      <td>9.802620</td>\n",
       "    </tr>\n",
       "    <tr>\n",
       "      <th>1</th>\n",
       "      <td>id0000002</td>\n",
       "      <td>Sebastião Castelo Branco Júnior</td>\n",
       "      <td>Masc</td>\n",
       "      <td>2019-12-10</td>\n",
       "      <td>2</td>\n",
       "      <td>barnesandrea@yahoo.com</td>\n",
       "      <td>(Decimal('21.8589875'), Decimal('122.830566'))</td>\n",
       "      <td>Biochemist, clinical</td>\n",
       "      <td>DF</td>\n",
       "      <td>$21.96</td>\n",
       "      <td>Moderado</td>\n",
       "      <td>842.12</td>\n",
       "      <td>5646.09</td>\n",
       "      <td>3336.07</td>\n",
       "      <td>NaN</td>\n",
       "      <td>5624.22</td>\n",
       "      <td>2669.98</td>\n",
       "      <td>504.17</td>\n",
       "      <td>44.406893</td>\n",
       "      <td>90.512871</td>\n",
       "    </tr>\n",
       "  </tbody>\n",
       "</table>\n",
       "</div>"
      ],
      "text/plain": [
       "          id                             Nome  Sexo        Nasc  Idade  \\\n",
       "0  id0000001            Eunice Hellen do Vale   Fem  1970-11-12     51   \n",
       "1  id0000002  Sebastião Castelo Branco Júnior  Masc  2019-12-10      2   \n",
       "\n",
       "                    Email                                        Lat_long  \\\n",
       "0        djones@yahoo.com  (Decimal('24.7024355'), Decimal('-28.038258'))   \n",
       "1  barnesandrea@yahoo.com  (Decimal('21.8589875'), Decimal('122.830566'))   \n",
       "\n",
       "                    Job Estado Salario    Perfil  Ativo01  Ativo02  Ativo03  \\\n",
       "0      Technical author     TO  $63.67  Moderado  1174.27  4980.98  2638.24   \n",
       "1  Biochemist, clinical     DF  $21.96  Moderado   842.12  5646.09  3336.07   \n",
       "\n",
       "   Ativo04  Ativo05  Ativo06  Ativo07      Nota1      Nota2  \n",
       "0      NaN  4480.91  2329.72   480.72  79.600372   9.802620  \n",
       "1      NaN  5624.22  2669.98   504.17  44.406893  90.512871  "
      ]
     },
     "metadata": {},
     "output_type": "display_data"
    }
   ],
   "source": [
    "# Inner Join\n",
    "dfunidos=pd.merge(left = dfcadastro, right = dflimpo, how = 'inner', on = 'id')\n",
    "print(dfunidos.shape)\n",
    "display(dfunidos.head(2))"
   ]
  },
  {
   "cell_type": "markdown",
   "id": "0ce78c5c",
   "metadata": {
    "ExecuteTime": {
     "end_time": "2021-08-16T13:13:10.973171Z",
     "start_time": "2021-08-16T13:13:10.961165Z"
    },
    "id": "0ce78c5c"
   },
   "source": [
    "## 5 - Ordene o dataframe pelo id, de forma crescente e redefina o índice"
   ]
  },
  {
   "cell_type": "code",
   "execution_count": 174,
   "id": "4d97062c",
   "metadata": {
    "colab": {
     "base_uri": "https://localhost:8080/",
     "height": 957
    },
    "id": "4d97062c",
    "outputId": "58a30dee-91f5-4caf-8cd4-b9c7dbd931cd"
   },
   "outputs": [],
   "source": [
    "dfunidos.sort_values('id',inplace = True)\n",
    "dfunidos.set_index('id', inplace=True)"
   ]
  },
  {
   "cell_type": "markdown",
   "id": "c22a9a29",
   "metadata": {
    "id": "c22a9a29"
   },
   "source": [
    "## 6 - Faça uma análise dos dados faltantes e trate-os\n",
    "\n",
    "Mostre todas as colunas com dados faltantes, sua quantidade/porcentagem e como tratar (preencher) cada uma delas explicando sua estratégia"
   ]
  },
  {
   "cell_type": "markdown",
   "id": "715b0603",
   "metadata": {},
   "source": [
    "#### Verificando valores ausentes"
   ]
  },
  {
   "cell_type": "code",
   "execution_count": 175,
   "id": "c4bb5d14",
   "metadata": {
    "colab": {
     "base_uri": "https://localhost:8080/",
     "height": 1000
    },
    "id": "c4bb5d14",
    "outputId": "331f06d7-e151-4f01-e742-a96f13c95ea4"
   },
   "outputs": [
    {
     "data": {
      "text/html": [
       "<div>\n",
       "<style scoped>\n",
       "    .dataframe tbody tr th:only-of-type {\n",
       "        vertical-align: middle;\n",
       "    }\n",
       "\n",
       "    .dataframe tbody tr th {\n",
       "        vertical-align: top;\n",
       "    }\n",
       "\n",
       "    .dataframe thead th {\n",
       "        text-align: right;\n",
       "    }\n",
       "</style>\n",
       "<table border=\"1\" class=\"dataframe\">\n",
       "  <thead>\n",
       "    <tr style=\"text-align: right;\">\n",
       "      <th></th>\n",
       "      <th>Total faltante</th>\n",
       "      <th>Porcentagem faltante</th>\n",
       "    </tr>\n",
       "  </thead>\n",
       "  <tbody>\n",
       "    <tr>\n",
       "      <th>Nome</th>\n",
       "      <td>0</td>\n",
       "      <td>0.00</td>\n",
       "    </tr>\n",
       "    <tr>\n",
       "      <th>Sexo</th>\n",
       "      <td>0</td>\n",
       "      <td>0.00</td>\n",
       "    </tr>\n",
       "    <tr>\n",
       "      <th>Nasc</th>\n",
       "      <td>0</td>\n",
       "      <td>0.00</td>\n",
       "    </tr>\n",
       "    <tr>\n",
       "      <th>Idade</th>\n",
       "      <td>0</td>\n",
       "      <td>0.00</td>\n",
       "    </tr>\n",
       "    <tr>\n",
       "      <th>Email</th>\n",
       "      <td>0</td>\n",
       "      <td>0.00</td>\n",
       "    </tr>\n",
       "    <tr>\n",
       "      <th>Lat_long</th>\n",
       "      <td>0</td>\n",
       "      <td>0.00</td>\n",
       "    </tr>\n",
       "    <tr>\n",
       "      <th>Job</th>\n",
       "      <td>0</td>\n",
       "      <td>0.00</td>\n",
       "    </tr>\n",
       "    <tr>\n",
       "      <th>Estado</th>\n",
       "      <td>0</td>\n",
       "      <td>0.00</td>\n",
       "    </tr>\n",
       "    <tr>\n",
       "      <th>Salario</th>\n",
       "      <td>0</td>\n",
       "      <td>0.00</td>\n",
       "    </tr>\n",
       "    <tr>\n",
       "      <th>Perfil</th>\n",
       "      <td>0</td>\n",
       "      <td>0.00</td>\n",
       "    </tr>\n",
       "    <tr>\n",
       "      <th>Ativo01</th>\n",
       "      <td>9724</td>\n",
       "      <td>25.09</td>\n",
       "    </tr>\n",
       "    <tr>\n",
       "      <th>Ativo02</th>\n",
       "      <td>6100</td>\n",
       "      <td>15.74</td>\n",
       "    </tr>\n",
       "    <tr>\n",
       "      <th>Ativo03</th>\n",
       "      <td>6169</td>\n",
       "      <td>15.92</td>\n",
       "    </tr>\n",
       "    <tr>\n",
       "      <th>Ativo04</th>\n",
       "      <td>11887</td>\n",
       "      <td>30.67</td>\n",
       "    </tr>\n",
       "    <tr>\n",
       "      <th>Ativo05</th>\n",
       "      <td>6191</td>\n",
       "      <td>15.98</td>\n",
       "    </tr>\n",
       "    <tr>\n",
       "      <th>Ativo06</th>\n",
       "      <td>19514</td>\n",
       "      <td>50.35</td>\n",
       "    </tr>\n",
       "    <tr>\n",
       "      <th>Ativo07</th>\n",
       "      <td>0</td>\n",
       "      <td>0.00</td>\n",
       "    </tr>\n",
       "    <tr>\n",
       "      <th>Nota1</th>\n",
       "      <td>3000</td>\n",
       "      <td>7.74</td>\n",
       "    </tr>\n",
       "    <tr>\n",
       "      <th>Nota2</th>\n",
       "      <td>2000</td>\n",
       "      <td>5.16</td>\n",
       "    </tr>\n",
       "  </tbody>\n",
       "</table>\n",
       "</div>"
      ],
      "text/plain": [
       "          Total faltante  Porcentagem faltante\n",
       "Nome                   0                  0.00\n",
       "Sexo                   0                  0.00\n",
       "Nasc                   0                  0.00\n",
       "Idade                  0                  0.00\n",
       "Email                  0                  0.00\n",
       "Lat_long               0                  0.00\n",
       "Job                    0                  0.00\n",
       "Estado                 0                  0.00\n",
       "Salario                0                  0.00\n",
       "Perfil                 0                  0.00\n",
       "Ativo01             9724                 25.09\n",
       "Ativo02             6100                 15.74\n",
       "Ativo03             6169                 15.92\n",
       "Ativo04            11887                 30.67\n",
       "Ativo05             6191                 15.98\n",
       "Ativo06            19514                 50.35\n",
       "Ativo07                0                  0.00\n",
       "Nota1               3000                  7.74\n",
       "Nota2               2000                  5.16"
      ]
     },
     "metadata": {},
     "output_type": "display_data"
    }
   ],
   "source": [
    "data = { 'Total faltante':dfunidos.isnull().sum(),\n",
    "'Porcentagem faltante':dfunidos.isnull().mean().round(4).mul(100)\n",
    "}\n",
    "newdf = pd.DataFrame(data)\n",
    "display(newdf)"
   ]
  },
  {
   "cell_type": "markdown",
   "id": "f4d37650",
   "metadata": {},
   "source": [
    "A partir da tabela acima é possível verificar que apenas alguns ativos e notas de nps possuem valores ausentes, portanto estes casos serão separados, analisados e receberão tratamentos diferentes.\n",
    "\n",
    "### Tratamento valores ausentes nas colunas de ATIVOS\n",
    "\n",
    "Foram levantadas duas hipóteses sobre os motivos pelos quais estes valores estariam ausentes:\n",
    "\n",
    "H1: Os valores nulos representam na verdade a ausência de valores investidos em um determinado ativo,e, portanto, equivalem ao valor de 0 unidades monetárias.\n",
    "\n",
    "H2: Falha no processo de preenchimento, armazenamento ou coleta das informações. Neste caso os campos ausentes podem assumir qualquer valor e o mais correto seria excluí-los ou investigar com mais profundidade os motivos e como corrigi-los junto com outras áreas da empresa.\n",
    "\n",
    "A partir das análises abaixo é possível concluir que nenhuma das colunas de ativos (ativo01-ativo07) possuem registros com o valor = 0. Este é um forte indicativo que de fato os campos nulos representam a ausência de investimento no ativo e portanto pode ser substituído pelo número 0. Está será a hipotese aceita e abordagem adotada neste relatório.\n"
   ]
  },
  {
   "cell_type": "code",
   "execution_count": 176,
   "id": "6bbfa25b",
   "metadata": {},
   "outputs": [
    {
     "name": "stdout",
     "output_type": "stream",
     "text": [
      "Número de registros com o valor= 0 em pelo menos 1 dos ativos:  0\n"
     ]
    }
   ],
   "source": [
    "print('Número de registros com o valor= 0 em pelo menos 1 dos ativos: ',\n",
    "    dfunidos[(dfunidos['Ativo01'] == 0) |\n",
    "    (dfunidos['Ativo02'] == 0) |\n",
    "    (dfunidos['Ativo03'] == 0) |\n",
    "    (dfunidos['Ativo04'] == 0) |\n",
    "    (dfunidos['Ativo05'] == 0) |\n",
    "    (dfunidos['Ativo06'] == 0) |\n",
    "    (dfunidos['Ativo07'] == 0)\n",
    "].shape[0])"
   ]
  },
  {
   "cell_type": "markdown",
   "id": "96f10391",
   "metadata": {},
   "source": [
    "Preenchendo os campos nulos de ativos com o valor 0"
   ]
  },
  {
   "cell_type": "code",
   "execution_count": 177,
   "id": "0b89796a",
   "metadata": {},
   "outputs": [
    {
     "data": {
      "text/html": [
       "<div>\n",
       "<style scoped>\n",
       "    .dataframe tbody tr th:only-of-type {\n",
       "        vertical-align: middle;\n",
       "    }\n",
       "\n",
       "    .dataframe tbody tr th {\n",
       "        vertical-align: top;\n",
       "    }\n",
       "\n",
       "    .dataframe thead th {\n",
       "        text-align: right;\n",
       "    }\n",
       "</style>\n",
       "<table border=\"1\" class=\"dataframe\">\n",
       "  <thead>\n",
       "    <tr style=\"text-align: right;\">\n",
       "      <th></th>\n",
       "      <th>Ativo01</th>\n",
       "      <th>Ativo02</th>\n",
       "      <th>Ativo03</th>\n",
       "      <th>Ativo04</th>\n",
       "      <th>Ativo05</th>\n",
       "      <th>Ativo06</th>\n",
       "      <th>Ativo07</th>\n",
       "    </tr>\n",
       "    <tr>\n",
       "      <th>id</th>\n",
       "      <th></th>\n",
       "      <th></th>\n",
       "      <th></th>\n",
       "      <th></th>\n",
       "      <th></th>\n",
       "      <th></th>\n",
       "      <th></th>\n",
       "    </tr>\n",
       "  </thead>\n",
       "  <tbody>\n",
       "    <tr>\n",
       "      <th>id0000001</th>\n",
       "      <td>1174.27</td>\n",
       "      <td>4980.98</td>\n",
       "      <td>2638.24</td>\n",
       "      <td>0.0</td>\n",
       "      <td>4480.91</td>\n",
       "      <td>2329.72</td>\n",
       "      <td>480.72</td>\n",
       "    </tr>\n",
       "    <tr>\n",
       "      <th>id0000002</th>\n",
       "      <td>842.12</td>\n",
       "      <td>5646.09</td>\n",
       "      <td>3336.07</td>\n",
       "      <td>0.0</td>\n",
       "      <td>5624.22</td>\n",
       "      <td>2669.98</td>\n",
       "      <td>504.17</td>\n",
       "    </tr>\n",
       "  </tbody>\n",
       "</table>\n",
       "</div>"
      ],
      "text/plain": [
       "           Ativo01  Ativo02  Ativo03  Ativo04  Ativo05  Ativo06  Ativo07\n",
       "id                                                                      \n",
       "id0000001  1174.27  4980.98  2638.24      0.0  4480.91  2329.72   480.72\n",
       "id0000002   842.12  5646.09  3336.07      0.0  5624.22  2669.98   504.17"
      ]
     },
     "metadata": {},
     "output_type": "display_data"
    },
    {
     "data": {
      "text/html": [
       "<div>\n",
       "<style scoped>\n",
       "    .dataframe tbody tr th:only-of-type {\n",
       "        vertical-align: middle;\n",
       "    }\n",
       "\n",
       "    .dataframe tbody tr th {\n",
       "        vertical-align: top;\n",
       "    }\n",
       "\n",
       "    .dataframe thead th {\n",
       "        text-align: right;\n",
       "    }\n",
       "</style>\n",
       "<table border=\"1\" class=\"dataframe\">\n",
       "  <thead>\n",
       "    <tr style=\"text-align: right;\">\n",
       "      <th></th>\n",
       "      <th>Total faltante</th>\n",
       "      <th>Porcentagem faltante</th>\n",
       "    </tr>\n",
       "  </thead>\n",
       "  <tbody>\n",
       "    <tr>\n",
       "      <th>Ativo01</th>\n",
       "      <td>0</td>\n",
       "      <td>0.0</td>\n",
       "    </tr>\n",
       "    <tr>\n",
       "      <th>Ativo02</th>\n",
       "      <td>0</td>\n",
       "      <td>0.0</td>\n",
       "    </tr>\n",
       "    <tr>\n",
       "      <th>Ativo03</th>\n",
       "      <td>0</td>\n",
       "      <td>0.0</td>\n",
       "    </tr>\n",
       "    <tr>\n",
       "      <th>Ativo04</th>\n",
       "      <td>0</td>\n",
       "      <td>0.0</td>\n",
       "    </tr>\n",
       "    <tr>\n",
       "      <th>Ativo05</th>\n",
       "      <td>0</td>\n",
       "      <td>0.0</td>\n",
       "    </tr>\n",
       "    <tr>\n",
       "      <th>Ativo06</th>\n",
       "      <td>0</td>\n",
       "      <td>0.0</td>\n",
       "    </tr>\n",
       "    <tr>\n",
       "      <th>Ativo07</th>\n",
       "      <td>0</td>\n",
       "      <td>0.0</td>\n",
       "    </tr>\n",
       "  </tbody>\n",
       "</table>\n",
       "</div>"
      ],
      "text/plain": [
       "         Total faltante  Porcentagem faltante\n",
       "Ativo01               0                   0.0\n",
       "Ativo02               0                   0.0\n",
       "Ativo03               0                   0.0\n",
       "Ativo04               0                   0.0\n",
       "Ativo05               0                   0.0\n",
       "Ativo06               0                   0.0\n",
       "Ativo07               0                   0.0"
      ]
     },
     "metadata": {},
     "output_type": "display_data"
    }
   ],
   "source": [
    "dfunidos.loc[:,'Ativo01':'Ativo07'] = dfunidos.loc[:,'Ativo01':'Ativo07'].fillna(value=0)\n",
    "display(dfunidos.loc[:,'Ativo01':'Ativo07'].head(2))\n",
    "data = { 'Total faltante':dfunidos.isnull().sum(),\n",
    "'Porcentagem faltante':dfunidos.isnull().mean().round(4).mul(100)\n",
    "}\n",
    "newdf = pd.DataFrame(data)\n",
    "display(newdf.loc['Ativo01':'Ativo07'])"
   ]
  },
  {
   "cell_type": "markdown",
   "id": "d5fa36d9",
   "metadata": {},
   "source": [
    "### Tratamento valores ausentes nas colunas de NOTAS"
   ]
  },
  {
   "cell_type": "code",
   "execution_count": 178,
   "id": "3G_aFd0ctQoi",
   "metadata": {
    "colab": {
     "base_uri": "https://localhost:8080/",
     "height": 424
    },
    "id": "3G_aFd0ctQoi",
    "outputId": "f85f812d-8d42-48a9-c157-e51ff62c9a05",
    "scrolled": true
   },
   "outputs": [
    {
     "data": {
      "text/html": [
       "<div>\n",
       "<style scoped>\n",
       "    .dataframe tbody tr th:only-of-type {\n",
       "        vertical-align: middle;\n",
       "    }\n",
       "\n",
       "    .dataframe tbody tr th {\n",
       "        vertical-align: top;\n",
       "    }\n",
       "\n",
       "    .dataframe thead th {\n",
       "        text-align: right;\n",
       "    }\n",
       "</style>\n",
       "<table border=\"1\" class=\"dataframe\">\n",
       "  <thead>\n",
       "    <tr style=\"text-align: right;\">\n",
       "      <th></th>\n",
       "      <th>Total faltante</th>\n",
       "      <th>Porcentagem faltante</th>\n",
       "    </tr>\n",
       "  </thead>\n",
       "  <tbody>\n",
       "    <tr>\n",
       "      <th>Nota1</th>\n",
       "      <td>3000</td>\n",
       "      <td>7.74</td>\n",
       "    </tr>\n",
       "    <tr>\n",
       "      <th>Nota2</th>\n",
       "      <td>2000</td>\n",
       "      <td>5.16</td>\n",
       "    </tr>\n",
       "  </tbody>\n",
       "</table>\n",
       "</div>"
      ],
      "text/plain": [
       "       Total faltante  Porcentagem faltante\n",
       "Nota1            3000                  7.74\n",
       "Nota2            2000                  5.16"
      ]
     },
     "metadata": {},
     "output_type": "display_data"
    },
    {
     "name": "stdout",
     "output_type": "stream",
     "text": [
      "Número de registros com ausencia de NOTA1 E NOTA2:  165\n"
     ]
    }
   ],
   "source": [
    "display(newdf.loc['Nota1':'Nota2'])\n",
    "print('Número de registros com ausencia de NOTA1 E NOTA2: ',\n",
    "    dfunidos[(dfunidos['Nota2'].isna()) & (dfunidos['Nota1'].isna())].shape[0])"
   ]
  },
  {
   "cell_type": "markdown",
   "id": "98ff4ed8",
   "metadata": {},
   "source": [
    "Existem 3.000 dados faltantes na coluna NOTA1 e 2.000 faltantes em NOTA2. Estes valores correspondem respectivamente a 7.74% e 5.16% do total de registros. Duas possibilidades para tratar estes dados foram levantadas:\n",
    "\n",
    "1) Excluir os registros com estes dados faltantes. Com isso seriam excluidos 4365 registros (3000 + 2000 - 165), aproximadamente 13% do total de registros.\n",
    "\n",
    "2) Criar um modelo para inserir estes dados de modo que as medidas de tendência central e de dispersão permaneçam inalteradas."
   ]
  },
  {
   "cell_type": "code",
   "execution_count": null,
   "id": "c1f3be54",
   "metadata": {},
   "outputs": [],
   "source": [
    "## DECIDIR E REALIZAR TRATAMENTO DAS NOTAS AQUI"
   ]
  },
  {
   "cell_type": "markdown",
   "id": "85ae4e81",
   "metadata": {
    "id": "85ae4e81"
   },
   "source": [
    "## 7 - Manipule os dados a seguir:\n",
    "- Criar coluna \"Total\" somando o valor de todos os ativos por investidor\n",
    "- Criar coluna \"Media\" com a média das notas 1 e 2\n",
    "- Criar coluna \"Dominio\" com apenas o domínio do email (dica: separar por @)\n",
    "- Mudar o nome da coluna \"Salário\" para \"Renda\" e tratar a coluna (sem caracter $ e tipo numérica)\n",
    "- Mudar os dados da coluna \"Sexo\" para Masculino e Feminino (tente usar o map)\n",
    "- Transformar os dados da coluna Media em inteiro\n",
    "- Criar coluna \"NPS\" onde o investidor é promotor se a média das notas é maior igual a 80, neutro se a média estiver entre 50 e 80, e detrator se for abaixo de 50\n"
   ]
  },
  {
   "cell_type": "code",
   "execution_count": 162,
   "id": "04ceVdIvLrN6",
   "metadata": {
    "colab": {
     "base_uri": "https://localhost:8080/",
     "height": 507
    },
    "id": "04ceVdIvLrN6",
    "outputId": "49c5a666-e710-4121-8f6c-f5733925ed55"
   },
   "outputs": [
    {
     "name": "stdout",
     "output_type": "stream",
     "text": [
      "<class 'pandas.core.frame.DataFrame'>\n",
      "Index: 38754 entries, id0000001 to id0038754\n",
      "Data columns (total 23 columns):\n",
      " #   Column    Non-Null Count  Dtype  \n",
      "---  ------    --------------  -----  \n",
      " 0   Nome      38754 non-null  object \n",
      " 1   Sexo      38754 non-null  object \n",
      " 2   Nasc      38754 non-null  object \n",
      " 3   Idade     38754 non-null  int64  \n",
      " 4   Email     38754 non-null  object \n",
      " 5   Lat_long  38754 non-null  object \n",
      " 6   Job       38754 non-null  object \n",
      " 7   Estado    38754 non-null  object \n",
      " 8   Renda     38754 non-null  float64\n",
      " 9   Perfil    38754 non-null  object \n",
      " 10  Ativo01   38754 non-null  float64\n",
      " 11  Ativo02   38754 non-null  float64\n",
      " 12  Ativo03   38754 non-null  float64\n",
      " 13  Ativo04   38754 non-null  float64\n",
      " 14  Ativo05   38754 non-null  float64\n",
      " 15  Ativo06   38754 non-null  float64\n",
      " 16  Ativo07   38754 non-null  float64\n",
      " 17  Nota1     35754 non-null  float64\n",
      " 18  Nota2     36754 non-null  float64\n",
      " 19  Total     38754 non-null  float64\n",
      " 20  Media     38589 non-null  float64\n",
      " 21  Dominio   38754 non-null  object \n",
      " 22  NPS       38754 non-null  object \n",
      "dtypes: float64(12), int64(1), object(10)\n",
      "memory usage: 7.1+ MB\n"
     ]
    },
    {
     "data": {
      "text/html": [
       "<div>\n",
       "<style scoped>\n",
       "    .dataframe tbody tr th:only-of-type {\n",
       "        vertical-align: middle;\n",
       "    }\n",
       "\n",
       "    .dataframe tbody tr th {\n",
       "        vertical-align: top;\n",
       "    }\n",
       "\n",
       "    .dataframe thead th {\n",
       "        text-align: right;\n",
       "    }\n",
       "</style>\n",
       "<table border=\"1\" class=\"dataframe\">\n",
       "  <thead>\n",
       "    <tr style=\"text-align: right;\">\n",
       "      <th></th>\n",
       "      <th>Nome</th>\n",
       "      <th>Sexo</th>\n",
       "      <th>Nasc</th>\n",
       "      <th>Idade</th>\n",
       "      <th>Email</th>\n",
       "      <th>Lat_long</th>\n",
       "      <th>Job</th>\n",
       "      <th>Estado</th>\n",
       "      <th>Renda</th>\n",
       "      <th>Perfil</th>\n",
       "      <th>...</th>\n",
       "      <th>Ativo04</th>\n",
       "      <th>Ativo05</th>\n",
       "      <th>Ativo06</th>\n",
       "      <th>Ativo07</th>\n",
       "      <th>Nota1</th>\n",
       "      <th>Nota2</th>\n",
       "      <th>Total</th>\n",
       "      <th>Media</th>\n",
       "      <th>Dominio</th>\n",
       "      <th>NPS</th>\n",
       "    </tr>\n",
       "    <tr>\n",
       "      <th>id</th>\n",
       "      <th></th>\n",
       "      <th></th>\n",
       "      <th></th>\n",
       "      <th></th>\n",
       "      <th></th>\n",
       "      <th></th>\n",
       "      <th></th>\n",
       "      <th></th>\n",
       "      <th></th>\n",
       "      <th></th>\n",
       "      <th></th>\n",
       "      <th></th>\n",
       "      <th></th>\n",
       "      <th></th>\n",
       "      <th></th>\n",
       "      <th></th>\n",
       "      <th></th>\n",
       "      <th></th>\n",
       "      <th></th>\n",
       "      <th></th>\n",
       "      <th></th>\n",
       "    </tr>\n",
       "  </thead>\n",
       "  <tbody>\n",
       "    <tr>\n",
       "      <th>id0000001</th>\n",
       "      <td>Eunice Hellen do Vale</td>\n",
       "      <td>Feminino</td>\n",
       "      <td>1970-11-12</td>\n",
       "      <td>51</td>\n",
       "      <td>djones@yahoo.com</td>\n",
       "      <td>(Decimal('24.7024355'), Decimal('-28.038258'))</td>\n",
       "      <td>Technical author</td>\n",
       "      <td>TO</td>\n",
       "      <td>63.67</td>\n",
       "      <td>Moderado</td>\n",
       "      <td>...</td>\n",
       "      <td>0.0</td>\n",
       "      <td>4480.91</td>\n",
       "      <td>2329.72</td>\n",
       "      <td>480.72</td>\n",
       "      <td>79.600372</td>\n",
       "      <td>9.802620</td>\n",
       "      <td>16084.84</td>\n",
       "      <td>44.701496</td>\n",
       "      <td>yahoo.com</td>\n",
       "      <td>Detrator</td>\n",
       "    </tr>\n",
       "    <tr>\n",
       "      <th>id0000002</th>\n",
       "      <td>Sebastião Castelo Branco Júnior</td>\n",
       "      <td>Masculino</td>\n",
       "      <td>2019-12-10</td>\n",
       "      <td>2</td>\n",
       "      <td>barnesandrea@yahoo.com</td>\n",
       "      <td>(Decimal('21.8589875'), Decimal('122.830566'))</td>\n",
       "      <td>Biochemist, clinical</td>\n",
       "      <td>DF</td>\n",
       "      <td>21.96</td>\n",
       "      <td>Moderado</td>\n",
       "      <td>...</td>\n",
       "      <td>0.0</td>\n",
       "      <td>5624.22</td>\n",
       "      <td>2669.98</td>\n",
       "      <td>504.17</td>\n",
       "      <td>44.406893</td>\n",
       "      <td>90.512871</td>\n",
       "      <td>18622.65</td>\n",
       "      <td>67.459882</td>\n",
       "      <td>yahoo.com</td>\n",
       "      <td>Neutro</td>\n",
       "    </tr>\n",
       "  </tbody>\n",
       "</table>\n",
       "<p>2 rows × 23 columns</p>\n",
       "</div>"
      ],
      "text/plain": [
       "                                      Nome       Sexo        Nasc  Idade  \\\n",
       "id                                                                         \n",
       "id0000001            Eunice Hellen do Vale   Feminino  1970-11-12     51   \n",
       "id0000002  Sebastião Castelo Branco Júnior  Masculino  2019-12-10      2   \n",
       "\n",
       "                            Email  \\\n",
       "id                                  \n",
       "id0000001        djones@yahoo.com   \n",
       "id0000002  barnesandrea@yahoo.com   \n",
       "\n",
       "                                                 Lat_long  \\\n",
       "id                                                          \n",
       "id0000001  (Decimal('24.7024355'), Decimal('-28.038258'))   \n",
       "id0000002  (Decimal('21.8589875'), Decimal('122.830566'))   \n",
       "\n",
       "                            Job Estado  Renda    Perfil  ...  Ativo04  \\\n",
       "id                                                       ...            \n",
       "id0000001      Technical author     TO  63.67  Moderado  ...      0.0   \n",
       "id0000002  Biochemist, clinical     DF  21.96  Moderado  ...      0.0   \n",
       "\n",
       "           Ativo05  Ativo06  Ativo07      Nota1      Nota2     Total  \\\n",
       "id                                                                     \n",
       "id0000001  4480.91  2329.72   480.72  79.600372   9.802620  16084.84   \n",
       "id0000002  5624.22  2669.98   504.17  44.406893  90.512871  18622.65   \n",
       "\n",
       "               Media    Dominio       NPS  \n",
       "id                                         \n",
       "id0000001  44.701496  yahoo.com  Detrator  \n",
       "id0000002  67.459882  yahoo.com    Neutro  \n",
       "\n",
       "[2 rows x 23 columns]"
      ]
     },
     "metadata": {},
     "output_type": "display_data"
    }
   ],
   "source": [
    "#Criando coluna Total\n",
    "dfunidos['Total'] = dfunidos[dfunidos.columns[dfunidos.columns.get_loc('Ativo01'):1+dfunidos.columns.get_loc('Ativo07')]].sum(axis=1)\n",
    "#Criando coluna Média\n",
    "dfunidos['Media'] = dfunidos[['Nota1','Nota2']].mean(axis=1)\n",
    "#Criando coluna Dominio\n",
    "dfunidos['Dominio'] = dfunidos['Email'].str.split('@', expand = True)[1]\n",
    "#Renomeando coluna salário e removendo sinal '$'\n",
    "dfunidos.rename(columns={'Salario': 'Renda'}, inplace = True)\n",
    "dfunidos['Renda'] = dfunidos['Renda'].str.split('$', expand = True)[1].astype(float)\n",
    "#Mudar os dados da coluna \"Sexo\" para Masculino e Feminino (tente usar o map)\n",
    "dicio = {\"Masc\": \"Masculino\", \"Fem\": \"Feminino\"}\n",
    "dfunidos['Sexo'] = dfunidos['Sexo'].map(dicio)\n",
    "#Criar coluna \"NPS\" onde o investidor é promotor se a média das notas é maior igual a 80, neutro se a média estiver entre 50 e 80, e detrator se for abaixo de 50\n",
    "def nps(media):\n",
    "  if media >=80:\n",
    "    return 'Promotor'\n",
    "  elif media>=50:\n",
    "    return 'Neutro'\n",
    "  else:\n",
    "    return 'Detrator'\n",
    "dfunidos['NPS'] = dfunidos['Media'].map(nps)\n",
    "dfunidos.info()\n",
    "display(dfunidos.head(2))"
   ]
  },
  {
   "cell_type": "code",
   "execution_count": 163,
   "id": "0570d688",
   "metadata": {
    "colab": {
     "base_uri": "https://localhost:8080/",
     "height": 1000
    },
    "id": "0570d688",
    "outputId": "bf5809e5-d37d-4c9e-f894-a80a69836f2a"
   },
   "outputs": [
    {
     "data": {
      "text/html": [
       "<div>\n",
       "<style scoped>\n",
       "    .dataframe tbody tr th:only-of-type {\n",
       "        vertical-align: middle;\n",
       "    }\n",
       "\n",
       "    .dataframe tbody tr th {\n",
       "        vertical-align: top;\n",
       "    }\n",
       "\n",
       "    .dataframe thead th {\n",
       "        text-align: right;\n",
       "    }\n",
       "</style>\n",
       "<table border=\"1\" class=\"dataframe\">\n",
       "  <thead>\n",
       "    <tr style=\"text-align: right;\">\n",
       "      <th></th>\n",
       "      <th>Nome</th>\n",
       "      <th>Sexo</th>\n",
       "      <th>Nasc</th>\n",
       "      <th>Idade</th>\n",
       "      <th>Email</th>\n",
       "      <th>Lat_long</th>\n",
       "      <th>Job</th>\n",
       "      <th>Estado</th>\n",
       "      <th>Renda</th>\n",
       "      <th>Perfil</th>\n",
       "      <th>...</th>\n",
       "      <th>Ativo04</th>\n",
       "      <th>Ativo05</th>\n",
       "      <th>Ativo06</th>\n",
       "      <th>Ativo07</th>\n",
       "      <th>Nota1</th>\n",
       "      <th>Nota2</th>\n",
       "      <th>Total</th>\n",
       "      <th>Media</th>\n",
       "      <th>Dominio</th>\n",
       "      <th>NPS</th>\n",
       "    </tr>\n",
       "    <tr>\n",
       "      <th>id</th>\n",
       "      <th></th>\n",
       "      <th></th>\n",
       "      <th></th>\n",
       "      <th></th>\n",
       "      <th></th>\n",
       "      <th></th>\n",
       "      <th></th>\n",
       "      <th></th>\n",
       "      <th></th>\n",
       "      <th></th>\n",
       "      <th></th>\n",
       "      <th></th>\n",
       "      <th></th>\n",
       "      <th></th>\n",
       "      <th></th>\n",
       "      <th></th>\n",
       "      <th></th>\n",
       "      <th></th>\n",
       "      <th></th>\n",
       "      <th></th>\n",
       "      <th></th>\n",
       "    </tr>\n",
       "  </thead>\n",
       "  <tbody>\n",
       "    <tr>\n",
       "      <th>id0000001</th>\n",
       "      <td>Eunice Hellen do Vale</td>\n",
       "      <td>Feminino</td>\n",
       "      <td>1970-11-12</td>\n",
       "      <td>51</td>\n",
       "      <td>djones@yahoo.com</td>\n",
       "      <td>(Decimal('24.7024355'), Decimal('-28.038258'))</td>\n",
       "      <td>Technical author</td>\n",
       "      <td>TO</td>\n",
       "      <td>63.67</td>\n",
       "      <td>Moderado</td>\n",
       "      <td>...</td>\n",
       "      <td>0.00</td>\n",
       "      <td>4480.91</td>\n",
       "      <td>2329.72</td>\n",
       "      <td>480.72</td>\n",
       "      <td>79.600372</td>\n",
       "      <td>9.802620</td>\n",
       "      <td>16084.84</td>\n",
       "      <td>44.701496</td>\n",
       "      <td>yahoo.com</td>\n",
       "      <td>Detrator</td>\n",
       "    </tr>\n",
       "    <tr>\n",
       "      <th>id0000002</th>\n",
       "      <td>Sebastião Castelo Branco Júnior</td>\n",
       "      <td>Masculino</td>\n",
       "      <td>2019-12-10</td>\n",
       "      <td>2</td>\n",
       "      <td>barnesandrea@yahoo.com</td>\n",
       "      <td>(Decimal('21.8589875'), Decimal('122.830566'))</td>\n",
       "      <td>Biochemist, clinical</td>\n",
       "      <td>DF</td>\n",
       "      <td>21.96</td>\n",
       "      <td>Moderado</td>\n",
       "      <td>...</td>\n",
       "      <td>0.00</td>\n",
       "      <td>5624.22</td>\n",
       "      <td>2669.98</td>\n",
       "      <td>504.17</td>\n",
       "      <td>44.406893</td>\n",
       "      <td>90.512871</td>\n",
       "      <td>18622.65</td>\n",
       "      <td>67.459882</td>\n",
       "      <td>yahoo.com</td>\n",
       "      <td>Neutro</td>\n",
       "    </tr>\n",
       "    <tr>\n",
       "      <th>id0000003</th>\n",
       "      <td>Romildo Fábio de Carvalho</td>\n",
       "      <td>Masculino</td>\n",
       "      <td>2015-12-28</td>\n",
       "      <td>6</td>\n",
       "      <td>walkermichael@yahoo.com</td>\n",
       "      <td>(Decimal('-28.2161525'), Decimal('97.140529'))</td>\n",
       "      <td>Development worker, international aid</td>\n",
       "      <td>DF</td>\n",
       "      <td>62497.64</td>\n",
       "      <td>Agressivo</td>\n",
       "      <td>...</td>\n",
       "      <td>0.00</td>\n",
       "      <td>5033.83</td>\n",
       "      <td>2229.45</td>\n",
       "      <td>523.12</td>\n",
       "      <td>44.020024</td>\n",
       "      <td>65.060941</td>\n",
       "      <td>17518.37</td>\n",
       "      <td>54.540483</td>\n",
       "      <td>yahoo.com</td>\n",
       "      <td>Neutro</td>\n",
       "    </tr>\n",
       "    <tr>\n",
       "      <th>id0000004</th>\n",
       "      <td>Lana Albina de Lemos Mumy</td>\n",
       "      <td>Feminino</td>\n",
       "      <td>1993-05-03</td>\n",
       "      <td>28</td>\n",
       "      <td>cobbangela@hotmail.com</td>\n",
       "      <td>(Decimal('-40.8557635'), Decimal('-2.936099'))</td>\n",
       "      <td>Estate manager/land agent</td>\n",
       "      <td>DF</td>\n",
       "      <td>99878.74</td>\n",
       "      <td>Agressivo</td>\n",
       "      <td>...</td>\n",
       "      <td>0.00</td>\n",
       "      <td>5933.91</td>\n",
       "      <td>0.00</td>\n",
       "      <td>486.05</td>\n",
       "      <td>25.597924</td>\n",
       "      <td>86.548918</td>\n",
       "      <td>15401.75</td>\n",
       "      <td>56.073421</td>\n",
       "      <td>hotmail.com</td>\n",
       "      <td>Neutro</td>\n",
       "    </tr>\n",
       "    <tr>\n",
       "      <th>id0000005</th>\n",
       "      <td>Rose Elisângela Vyrnium de Moura</td>\n",
       "      <td>Feminino</td>\n",
       "      <td>1984-06-10</td>\n",
       "      <td>37</td>\n",
       "      <td>crawfordcraig@yahoo.com</td>\n",
       "      <td>(Decimal('-20.2620885'), Decimal('104.349223'))</td>\n",
       "      <td>Chartered public finance accountant</td>\n",
       "      <td>MS</td>\n",
       "      <td>188.01</td>\n",
       "      <td>Conservador</td>\n",
       "      <td>...</td>\n",
       "      <td>30841.35</td>\n",
       "      <td>6044.86</td>\n",
       "      <td>2198.89</td>\n",
       "      <td>512.98</td>\n",
       "      <td>14.463307</td>\n",
       "      <td>33.566292</td>\n",
       "      <td>50981.21</td>\n",
       "      <td>24.014800</td>\n",
       "      <td>yahoo.com</td>\n",
       "      <td>Detrator</td>\n",
       "    </tr>\n",
       "    <tr>\n",
       "      <th>...</th>\n",
       "      <td>...</td>\n",
       "      <td>...</td>\n",
       "      <td>...</td>\n",
       "      <td>...</td>\n",
       "      <td>...</td>\n",
       "      <td>...</td>\n",
       "      <td>...</td>\n",
       "      <td>...</td>\n",
       "      <td>...</td>\n",
       "      <td>...</td>\n",
       "      <td>...</td>\n",
       "      <td>...</td>\n",
       "      <td>...</td>\n",
       "      <td>...</td>\n",
       "      <td>...</td>\n",
       "      <td>...</td>\n",
       "      <td>...</td>\n",
       "      <td>...</td>\n",
       "      <td>...</td>\n",
       "      <td>...</td>\n",
       "      <td>...</td>\n",
       "    </tr>\n",
       "    <tr>\n",
       "      <th>id0038750</th>\n",
       "      <td>Beatriz Maísa de Miranda Milani</td>\n",
       "      <td>Feminino</td>\n",
       "      <td>1999-02-20</td>\n",
       "      <td>22</td>\n",
       "      <td>mark47@gmail.com</td>\n",
       "      <td>(Decimal('-23.8494875'), Decimal('-91.561304'))</td>\n",
       "      <td>Further education lecturer</td>\n",
       "      <td>RS</td>\n",
       "      <td>4993.49</td>\n",
       "      <td>Moderado</td>\n",
       "      <td>...</td>\n",
       "      <td>8454.99</td>\n",
       "      <td>0.00</td>\n",
       "      <td>2191.78</td>\n",
       "      <td>489.76</td>\n",
       "      <td>66.644257</td>\n",
       "      <td>6.462871</td>\n",
       "      <td>17699.09</td>\n",
       "      <td>36.553564</td>\n",
       "      <td>gmail.com</td>\n",
       "      <td>Detrator</td>\n",
       "    </tr>\n",
       "    <tr>\n",
       "      <th>id0038751</th>\n",
       "      <td>Juan dos Santos</td>\n",
       "      <td>Masculino</td>\n",
       "      <td>1999-07-10</td>\n",
       "      <td>22</td>\n",
       "      <td>greggnguyen@hotmail.com</td>\n",
       "      <td>(Decimal('-7.8876355'), Decimal('155.835880'))</td>\n",
       "      <td>Adult guidance worker</td>\n",
       "      <td>PI</td>\n",
       "      <td>41218.63</td>\n",
       "      <td>Moderado</td>\n",
       "      <td>...</td>\n",
       "      <td>11243.08</td>\n",
       "      <td>4692.11</td>\n",
       "      <td>2368.93</td>\n",
       "      <td>496.02</td>\n",
       "      <td>96.987294</td>\n",
       "      <td>72.333030</td>\n",
       "      <td>28532.99</td>\n",
       "      <td>84.660162</td>\n",
       "      <td>hotmail.com</td>\n",
       "      <td>Promotor</td>\n",
       "    </tr>\n",
       "    <tr>\n",
       "      <th>id0038752</th>\n",
       "      <td>Severino Edson de Viana Loase</td>\n",
       "      <td>Masculino</td>\n",
       "      <td>1981-12-01</td>\n",
       "      <td>40</td>\n",
       "      <td>cindy11@yahoo.com</td>\n",
       "      <td>(Decimal('-52.1338005'), Decimal('-59.715325'))</td>\n",
       "      <td>Arts development officer</td>\n",
       "      <td>PR</td>\n",
       "      <td>32.41</td>\n",
       "      <td>Agressivo</td>\n",
       "      <td>...</td>\n",
       "      <td>0.00</td>\n",
       "      <td>6733.79</td>\n",
       "      <td>2338.43</td>\n",
       "      <td>504.32</td>\n",
       "      <td>32.139610</td>\n",
       "      <td>22.742974</td>\n",
       "      <td>19398.69</td>\n",
       "      <td>27.441292</td>\n",
       "      <td>yahoo.com</td>\n",
       "      <td>Detrator</td>\n",
       "    </tr>\n",
       "    <tr>\n",
       "      <th>id0038753</th>\n",
       "      <td>Kim Mooshi</td>\n",
       "      <td>Masculino</td>\n",
       "      <td>1999-12-06</td>\n",
       "      <td>22</td>\n",
       "      <td>mcdonaldmario@gmail.com</td>\n",
       "      <td>(Decimal('-81.2874995'), Decimal('-28.805800'))</td>\n",
       "      <td>Production manager</td>\n",
       "      <td>RJ</td>\n",
       "      <td>914.52</td>\n",
       "      <td>Conservador</td>\n",
       "      <td>...</td>\n",
       "      <td>0.00</td>\n",
       "      <td>4921.77</td>\n",
       "      <td>2024.00</td>\n",
       "      <td>500.65</td>\n",
       "      <td>98.385080</td>\n",
       "      <td>56.611838</td>\n",
       "      <td>15840.09</td>\n",
       "      <td>77.498459</td>\n",
       "      <td>gmail.com</td>\n",
       "      <td>Neutro</td>\n",
       "    </tr>\n",
       "    <tr>\n",
       "      <th>id0038754</th>\n",
       "      <td>Vinícius Arnaldo de Pereira Mendes</td>\n",
       "      <td>Masculino</td>\n",
       "      <td>2003-09-13</td>\n",
       "      <td>18</td>\n",
       "      <td>omartinez@hotmail.com</td>\n",
       "      <td>(Decimal('-37.248521'), Decimal('6.033254'))</td>\n",
       "      <td>Pension scheme manager</td>\n",
       "      <td>AL</td>\n",
       "      <td>29076.19</td>\n",
       "      <td>Moderado</td>\n",
       "      <td>...</td>\n",
       "      <td>18085.88</td>\n",
       "      <td>5161.07</td>\n",
       "      <td>2257.66</td>\n",
       "      <td>507.95</td>\n",
       "      <td>29.660050</td>\n",
       "      <td>47.371606</td>\n",
       "      <td>31819.28</td>\n",
       "      <td>38.515828</td>\n",
       "      <td>hotmail.com</td>\n",
       "      <td>Detrator</td>\n",
       "    </tr>\n",
       "  </tbody>\n",
       "</table>\n",
       "<p>38754 rows × 23 columns</p>\n",
       "</div>"
      ],
      "text/plain": [
       "                                         Nome       Sexo        Nasc  Idade  \\\n",
       "id                                                                            \n",
       "id0000001               Eunice Hellen do Vale   Feminino  1970-11-12     51   \n",
       "id0000002     Sebastião Castelo Branco Júnior  Masculino  2019-12-10      2   \n",
       "id0000003           Romildo Fábio de Carvalho  Masculino  2015-12-28      6   \n",
       "id0000004           Lana Albina de Lemos Mumy   Feminino  1993-05-03     28   \n",
       "id0000005    Rose Elisângela Vyrnium de Moura   Feminino  1984-06-10     37   \n",
       "...                                       ...        ...         ...    ...   \n",
       "id0038750     Beatriz Maísa de Miranda Milani   Feminino  1999-02-20     22   \n",
       "id0038751                     Juan dos Santos  Masculino  1999-07-10     22   \n",
       "id0038752       Severino Edson de Viana Loase  Masculino  1981-12-01     40   \n",
       "id0038753                          Kim Mooshi  Masculino  1999-12-06     22   \n",
       "id0038754  Vinícius Arnaldo de Pereira Mendes  Masculino  2003-09-13     18   \n",
       "\n",
       "                             Email  \\\n",
       "id                                   \n",
       "id0000001         djones@yahoo.com   \n",
       "id0000002   barnesandrea@yahoo.com   \n",
       "id0000003  walkermichael@yahoo.com   \n",
       "id0000004   cobbangela@hotmail.com   \n",
       "id0000005  crawfordcraig@yahoo.com   \n",
       "...                            ...   \n",
       "id0038750         mark47@gmail.com   \n",
       "id0038751  greggnguyen@hotmail.com   \n",
       "id0038752        cindy11@yahoo.com   \n",
       "id0038753  mcdonaldmario@gmail.com   \n",
       "id0038754    omartinez@hotmail.com   \n",
       "\n",
       "                                                  Lat_long  \\\n",
       "id                                                           \n",
       "id0000001   (Decimal('24.7024355'), Decimal('-28.038258'))   \n",
       "id0000002   (Decimal('21.8589875'), Decimal('122.830566'))   \n",
       "id0000003   (Decimal('-28.2161525'), Decimal('97.140529'))   \n",
       "id0000004   (Decimal('-40.8557635'), Decimal('-2.936099'))   \n",
       "id0000005  (Decimal('-20.2620885'), Decimal('104.349223'))   \n",
       "...                                                    ...   \n",
       "id0038750  (Decimal('-23.8494875'), Decimal('-91.561304'))   \n",
       "id0038751   (Decimal('-7.8876355'), Decimal('155.835880'))   \n",
       "id0038752  (Decimal('-52.1338005'), Decimal('-59.715325'))   \n",
       "id0038753  (Decimal('-81.2874995'), Decimal('-28.805800'))   \n",
       "id0038754     (Decimal('-37.248521'), Decimal('6.033254'))   \n",
       "\n",
       "                                             Job Estado     Renda  \\\n",
       "id                                                                  \n",
       "id0000001                       Technical author     TO     63.67   \n",
       "id0000002                   Biochemist, clinical     DF     21.96   \n",
       "id0000003  Development worker, international aid     DF  62497.64   \n",
       "id0000004              Estate manager/land agent     DF  99878.74   \n",
       "id0000005    Chartered public finance accountant     MS    188.01   \n",
       "...                                          ...    ...       ...   \n",
       "id0038750             Further education lecturer     RS   4993.49   \n",
       "id0038751                  Adult guidance worker     PI  41218.63   \n",
       "id0038752               Arts development officer     PR     32.41   \n",
       "id0038753                     Production manager     RJ    914.52   \n",
       "id0038754                 Pension scheme manager     AL  29076.19   \n",
       "\n",
       "                Perfil  ...   Ativo04  Ativo05  Ativo06  Ativo07      Nota1  \\\n",
       "id                      ...                                                   \n",
       "id0000001     Moderado  ...      0.00  4480.91  2329.72   480.72  79.600372   \n",
       "id0000002     Moderado  ...      0.00  5624.22  2669.98   504.17  44.406893   \n",
       "id0000003    Agressivo  ...      0.00  5033.83  2229.45   523.12  44.020024   \n",
       "id0000004    Agressivo  ...      0.00  5933.91     0.00   486.05  25.597924   \n",
       "id0000005  Conservador  ...  30841.35  6044.86  2198.89   512.98  14.463307   \n",
       "...                ...  ...       ...      ...      ...      ...        ...   \n",
       "id0038750     Moderado  ...   8454.99     0.00  2191.78   489.76  66.644257   \n",
       "id0038751     Moderado  ...  11243.08  4692.11  2368.93   496.02  96.987294   \n",
       "id0038752    Agressivo  ...      0.00  6733.79  2338.43   504.32  32.139610   \n",
       "id0038753  Conservador  ...      0.00  4921.77  2024.00   500.65  98.385080   \n",
       "id0038754     Moderado  ...  18085.88  5161.07  2257.66   507.95  29.660050   \n",
       "\n",
       "               Nota2     Total      Media      Dominio       NPS  \n",
       "id                                                                \n",
       "id0000001   9.802620  16084.84  44.701496    yahoo.com  Detrator  \n",
       "id0000002  90.512871  18622.65  67.459882    yahoo.com    Neutro  \n",
       "id0000003  65.060941  17518.37  54.540483    yahoo.com    Neutro  \n",
       "id0000004  86.548918  15401.75  56.073421  hotmail.com    Neutro  \n",
       "id0000005  33.566292  50981.21  24.014800    yahoo.com  Detrator  \n",
       "...              ...       ...        ...          ...       ...  \n",
       "id0038750   6.462871  17699.09  36.553564    gmail.com  Detrator  \n",
       "id0038751  72.333030  28532.99  84.660162  hotmail.com  Promotor  \n",
       "id0038752  22.742974  19398.69  27.441292    yahoo.com  Detrator  \n",
       "id0038753  56.611838  15840.09  77.498459    gmail.com    Neutro  \n",
       "id0038754  47.371606  31819.28  38.515828  hotmail.com  Detrator  \n",
       "\n",
       "[38754 rows x 23 columns]"
      ]
     },
     "metadata": {},
     "output_type": "display_data"
    }
   ],
   "source": [
    "#Criando coluna de média das notas\n",
    "#dfunidos['Media'] = dfunidos['Media'].astype(int)\n",
    "\n",
    "#PRECISA IMPLEMENTAR TRATAMENTO DAS NOTAS ANTES!!!\n",
    "\n",
    "\n",
    "display(dfunidos)\n"
   ]
  },
  {
   "cell_type": "markdown",
   "id": "767fc018",
   "metadata": {
    "id": "767fc018"
   },
   "source": [
    "## 8 - Calcule os seguintes dados\n",
    "- Calcule o total investido em cada coluna Ativo (tente usar o apply)\n",
    "- Qual o menor valor investido em cada ativo?\n",
    "- Mostre a média e desvio padrão de cada ativo\n",
    "- Qual a idade do investidor mais velho?\n",
    "- Qual a mediana da coluna Média?"
   ]
  },
  {
   "cell_type": "code",
   "execution_count": null,
   "id": "992d886b",
   "metadata": {
    "id": "992d886b"
   },
   "outputs": [],
   "source": []
  },
  {
   "cell_type": "markdown",
   "id": "0f074caf",
   "metadata": {
    "id": "0f074caf"
   },
   "source": [
    "## 9 - Responder as perguntas abaixo\n",
    "\n",
    "- Quantos investidores são promotores?\n",
    "- Quantos investidores são do sexo feminino?\n",
    "- Quantos investidores investiram mais de 16000 no Ativo04?\n",
    "- Quantos investidores investiram mais de 16000 no Ativo04 e menos de 5000 no Ativo05?\n",
    "- Quantos investidores do sexo feminino tem mais de 25 anos e investiu menos de 10000? (bonus: por que esse dado seria importante para a estratégia da nossa empresa?\n",
    "\n",
    "- Quantos investidores tem em cada estado (dica: use groupby)\n",
    "- Qual é a soma do total investido por cada estado?\n",
    "- Como os investidores se distribuem em promotores, detratores e neutros?\n",
    "- Qual é a média do total investido por promotores, detratores e neutros?\n"
   ]
  },
  {
   "cell_type": "code",
   "execution_count": null,
   "id": "G6L0Qjjgyz1L",
   "metadata": {
    "id": "G6L0Qjjgyz1L"
   },
   "outputs": [],
   "source": []
  }
 ],
 "metadata": {
  "colab": {
   "provenance": []
  },
  "kernelspec": {
   "display_name": "Python 3 (ipykernel)",
   "language": "python",
   "name": "python3"
  },
  "language_info": {
   "codemirror_mode": {
    "name": "ipython",
    "version": 3
   },
   "file_extension": ".py",
   "mimetype": "text/x-python",
   "name": "python",
   "nbconvert_exporter": "python",
   "pygments_lexer": "ipython3",
   "version": "3.9.13"
  },
  "varInspector": {
   "cols": {
    "lenName": 16,
    "lenType": 16,
    "lenVar": 40
   },
   "kernels_config": {
    "python": {
     "delete_cmd_postfix": "",
     "delete_cmd_prefix": "del ",
     "library": "var_list.py",
     "varRefreshCmd": "print(var_dic_list())"
    },
    "r": {
     "delete_cmd_postfix": ") ",
     "delete_cmd_prefix": "rm(",
     "library": "var_list.r",
     "varRefreshCmd": "cat(var_dic_list()) "
    }
   },
   "types_to_exclude": [
    "module",
    "function",
    "builtin_function_or_method",
    "instance",
    "_Feature"
   ],
   "window_display": false
  }
 },
 "nbformat": 4,
 "nbformat_minor": 5
}
